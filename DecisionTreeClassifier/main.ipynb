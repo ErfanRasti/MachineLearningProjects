{
 "cells": [
  {
   "cell_type": "markdown",
   "metadata": {},
   "source": [
    "# Implementing Decision Tree Classifier"
   ]
  },
  {
   "cell_type": "markdown",
   "metadata": {},
   "source": [
    "## Importing Libraries"
   ]
  },
  {
   "cell_type": "code",
   "execution_count": 1,
   "metadata": {},
   "outputs": [],
   "source": [
    "import numpy as np\n",
    "import pandas as pd\n",
    "from sklearn.model_selection import train_test_split\n",
    "from sklearn.preprocessing import LabelEncoder\n"
   ]
  },
  {
   "cell_type": "markdown",
   "metadata": {},
   "source": [
    "## Importing and preprocessing the data"
   ]
  },
  {
   "cell_type": "code",
   "execution_count": 2,
   "metadata": {},
   "outputs": [],
   "source": [
    "data = pd.read_csv(r'./data/nursery.csv')"
   ]
  },
  {
   "cell_type": "code",
   "execution_count": 3,
   "metadata": {},
   "outputs": [
    {
     "data": {
      "text/plain": [
       "parents             12960\n",
       "has_nurs            12960\n",
       "form                12960\n",
       "children            12960\n",
       "housing             12960\n",
       "finance             12960\n",
       "social              12960\n",
       "health              12960\n",
       "final evaluation    12960\n",
       "dtype: int64"
      ]
     },
     "execution_count": 3,
     "metadata": {},
     "output_type": "execute_result"
    }
   ],
   "source": [
    "data.count()"
   ]
  },
  {
   "cell_type": "markdown",
   "metadata": {},
   "source": [
    "There is no missing data in the dataset. So, we can directly move on to the next step."
   ]
  },
  {
   "cell_type": "code",
   "execution_count": 4,
   "metadata": {},
   "outputs": [],
   "source": [
    "y =  data['final evaluation']\n",
    "X = data.drop(labels=['final evaluation'], axis=1)"
   ]
  },
  {
   "cell_type": "code",
   "execution_count": 5,
   "metadata": {},
   "outputs": [],
   "source": [
    "X_train, X_test, y_train, y_test = train_test_split(\n",
    "    X, y, test_size=0.2, random_state=42)\n"
   ]
  },
  {
   "cell_type": "markdown",
   "metadata": {},
   "source": [
    "## Implementing the model"
   ]
  },
  {
   "cell_type": "code",
   "execution_count": 6,
   "metadata": {},
   "outputs": [],
   "source": [
    "class DecisionTreeClassifier:\n",
    "    def __init__(self, max_depth=None, impurity='entropy'):\n",
    "        self.max_depth = max_depth\n",
    "        self.impurity_name = impurity\n",
    "\n",
    "        if impurity == 'entropy':\n",
    "            self.impurity = self.entropy\n",
    "\n",
    "        elif impurity == 'gini':\n",
    "            self.impurity = self.gini\n",
    "\n",
    "    # def encode_X(self, X):\n",
    "    #     return X.apply(LabelEncoder().fit_transform)\n",
    "\n",
    "    # def encode_y(self, y):\n",
    "    #     self.label_encoder = LabelEncoder()\n",
    "    #     return self.label_encoder.fit_transform(y)\n",
    "\n",
    "    # def decode_y(self, y):\n",
    "\n",
    "    #     if self.label_encoder is None:\n",
    "    #         raise Exception('Label encoder is not initialized')\n",
    "\n",
    "    #     return self.label_encoder.inverse_transform(y)\n",
    "\n",
    "    def probablity(self, X):\n",
    "\n",
    "        return X.value_counts()/X.shape[0]\n",
    "\n",
    "    def entropy(self, X):\n",
    "        X = self.probablity(X)\n",
    "\n",
    "        return np.dot(X, -np.log2(X))\n",
    "\n",
    "    def gini(self, X):\n",
    "        X = self.probablity(X)\n",
    "        return 1 - np.dot(X, X)\n",
    "\n",
    "    def information_gain(self, X, y):\n",
    "\n",
    "        if len(X.shape) == 1:\n",
    "            X = X.to_frame()\n",
    "\n",
    "        info_gain = list()\n",
    "        for column in range(X.shape[1]):\n",
    "            X1 = X.iloc[:, column]\n",
    "            info_gain.append(self.impurity(y)\n",
    "                             - sum([self.probablity(X1)[j] *\n",
    "                                    self.impurity(y[X1 == j])\n",
    "                                    for j in X1.unique()]))\n",
    "\n",
    "        return np.array(info_gain)\n",
    "\n",
    "    def split_nodes(self, X, y):\n",
    "\n",
    "        feature_arg = np.argmax(self.information_gain(X, y))\n",
    "        X1 = X.iloc[:, feature_arg]\n",
    "        X = X.drop(X.columns[feature_arg], axis=1)\n",
    "\n",
    "        return [(X[X1 == i], y[X1 == i]) for i in X1.unique()]\n",
    "\n",
    "    def fit(self, X, y):\n",
    "\n",
    "        if len(X.shape) == 1:\n",
    "            X = X.to_frame()\n",
    "\n",
    "        if self.max_depth is None:\n",
    "            self.max_depth = X.shape[1]\n",
    "\n",
    "        Xs_ys = self.split_nodes(X, y)\n",
    "        for _ in range(self.max_depth-1):\n",
    "            Xs_ys_new = list()\n",
    "            for i in range(len(Xs_ys)):\n",
    "                # if \n",
    "                Xs_ys_new += self.split_nodes(Xs_ys[i][0], Xs_ys[i][1])\n",
    "\n",
    "            Xs_ys = Xs_ys_new\n",
    "\n",
    "        return Xs_ys\n"
   ]
  },
  {
   "cell_type": "code",
   "execution_count": 13,
   "metadata": {},
   "outputs": [
    {
     "data": {
      "text/plain": [
       "recommended    0.334780\n",
       "not_recom      0.332755\n",
       "priority       0.332465\n",
       "Name: health, dtype: float64"
      ]
     },
     "execution_count": 13,
     "metadata": {},
     "output_type": "execute_result"
    }
   ],
   "source": [
    "model = DecisionTreeClassifier(max_depth=1)\n",
    "# X_train_encoded = model.encode_X(X_train)\n",
    "# y_train_encoded = model.encode_y(y_train)\n",
    "# model.information_gain(X_train, y_train)\n",
    "model.probablity(X_train.iloc[:,7])"
   ]
  },
  {
   "cell_type": "code",
   "execution_count": 11,
   "metadata": {},
   "outputs": [
    {
     "data": {
      "text/plain": [
       "[(           parents     has_nurs        form children     housing     finance  \\\n",
       "  3334         usual     critical      foster        2    critical  convenient   \n",
       "  3616         usual    very_crit    complete        3    critical      inconv   \n",
       "  6127   pretentious     improper    complete        2   less_conv  convenient   \n",
       "  7981   pretentious    very_crit    complete     more    critical  convenient   \n",
       "  5125   pretentious       proper      foster        3    critical      inconv   \n",
       "  ...            ...          ...         ...      ...         ...         ...   \n",
       "  6265   pretentious     improper   completed        1  convenient  convenient   \n",
       "  5734   pretentious  less_proper  incomplete        3  convenient      inconv   \n",
       "  11284   great_pret     critical    complete        1    critical      inconv   \n",
       "  5191   pretentious  less_proper    complete        1  convenient  convenient   \n",
       "  7270   pretentious     critical   completed        3   less_conv      inconv   \n",
       "  \n",
       "                social  \n",
       "  3334   slightly_prob  \n",
       "  3616     problematic  \n",
       "  6127     problematic  \n",
       "  7981     problematic  \n",
       "  5125   slightly_prob  \n",
       "  ...              ...  \n",
       "  6265         nonprob  \n",
       "  5734         nonprob  \n",
       "  11284    problematic  \n",
       "  5191     problematic  \n",
       "  7270     problematic  \n",
       "  \n",
       "  [3447 rows x 7 columns],\n",
       "  3334     spec_prior\n",
       "  3616     spec_prior\n",
       "  6127       priority\n",
       "  7981     spec_prior\n",
       "  5125       priority\n",
       "              ...    \n",
       "  6265       priority\n",
       "  5734       priority\n",
       "  11284    spec_prior\n",
       "  5191       priority\n",
       "  7270     spec_prior\n",
       "  Name: final evaluation, Length: 3447, dtype: object),\n",
       " (           parents     has_nurs        form children     housing     finance  \\\n",
       "  12692   great_pret    very_crit  incomplete     more  convenient  convenient   \n",
       "  1904         usual     improper    complete     more  convenient      inconv   \n",
       "  6515   pretentious     improper  incomplete        1   less_conv      inconv   \n",
       "  2498         usual     improper      foster        3  convenient      inconv   \n",
       "  2588         usual     improper      foster     more    critical      inconv   \n",
       "  ...            ...          ...         ...      ...         ...         ...   \n",
       "  11111   great_pret     improper      foster        2    critical  convenient   \n",
       "  11363   great_pret     critical    complete        3   less_conv  convenient   \n",
       "  11636   great_pret     critical   completed     more   less_conv  convenient   \n",
       "  5390   pretentious  less_proper    complete     more    critical  convenient   \n",
       "  860          usual       proper      foster     more    critical      inconv   \n",
       "  \n",
       "                social  \n",
       "  12692        nonprob  \n",
       "  1904   slightly_prob  \n",
       "  6515     problematic  \n",
       "  2498   slightly_prob  \n",
       "  2588   slightly_prob  \n",
       "  ...              ...  \n",
       "  11111  slightly_prob  \n",
       "  11363  slightly_prob  \n",
       "  11636    problematic  \n",
       "  5390     problematic  \n",
       "  860    slightly_prob  \n",
       "  \n",
       "  [3450 rows x 7 columns],\n",
       "  12692    not_recom\n",
       "  1904     not_recom\n",
       "  6515     not_recom\n",
       "  2498     not_recom\n",
       "  2588     not_recom\n",
       "             ...    \n",
       "  11111    not_recom\n",
       "  11363    not_recom\n",
       "  11636    not_recom\n",
       "  5390     not_recom\n",
       "  860      not_recom\n",
       "  Name: final evaluation, Length: 3450, dtype: object),\n",
       " (           parents   has_nurs        form children     housing     finance  \\\n",
       "  7488   pretentious   critical  incomplete        3    critical  convenient   \n",
       "  2901         usual   critical   completed        2    critical  convenient   \n",
       "  1851         usual   improper    complete        3  convenient      inconv   \n",
       "  7107   pretentious   critical    complete     more   less_conv      inconv   \n",
       "  7677   pretentious   critical      foster        3  convenient      inconv   \n",
       "  ...            ...        ...         ...      ...         ...         ...   \n",
       "  12309   great_pret  very_crit    complete     more    critical      inconv   \n",
       "  6420   pretentious   improper   completed        3    critical      inconv   \n",
       "  2433         usual   improper      foster        2  convenient  convenient   \n",
       "  8322   pretentious  very_crit  incomplete        3  convenient  convenient   \n",
       "  11964   great_pret   critical      foster        2   less_conv      inconv   \n",
       "  \n",
       "                social  \n",
       "  7488         nonprob  \n",
       "  2901   slightly_prob  \n",
       "  1851     problematic  \n",
       "  7107     problematic  \n",
       "  7677         nonprob  \n",
       "  ...              ...  \n",
       "  12309    problematic  \n",
       "  6420   slightly_prob  \n",
       "  2433   slightly_prob  \n",
       "  8322     problematic  \n",
       "  11964  slightly_prob  \n",
       "  \n",
       "  [3471 rows x 7 columns],\n",
       "  7488     spec_prior\n",
       "  2901       priority\n",
       "  1851       priority\n",
       "  7107     spec_prior\n",
       "  7677     spec_prior\n",
       "              ...    \n",
       "  12309    spec_prior\n",
       "  6420       priority\n",
       "  2433     very_recom\n",
       "  8322     spec_prior\n",
       "  11964    spec_prior\n",
       "  Name: final evaluation, Length: 3471, dtype: object)]"
      ]
     },
     "execution_count": 11,
     "metadata": {},
     "output_type": "execute_result"
    }
   ],
   "source": [
    "model.fit(X_train, y_train)"
   ]
  }
 ],
 "metadata": {
  "kernelspec": {
   "display_name": "Python 3.9.12 ('base')",
   "language": "python",
   "name": "python3"
  },
  "language_info": {
   "codemirror_mode": {
    "name": "ipython",
    "version": 3
   },
   "file_extension": ".py",
   "mimetype": "text/x-python",
   "name": "python",
   "nbconvert_exporter": "python",
   "pygments_lexer": "ipython3",
   "version": "3.9.12"
  },
  "orig_nbformat": 4,
  "vscode": {
   "interpreter": {
    "hash": "5b48bd92917a400be1b39f4e6f0c911d2a30a3918a0ff2492a6880d1654b5ed5"
   }
  }
 },
 "nbformat": 4,
 "nbformat_minor": 2
}
