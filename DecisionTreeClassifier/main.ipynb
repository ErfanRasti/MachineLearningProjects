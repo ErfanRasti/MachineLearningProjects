{
 "cells": [
  {
   "cell_type": "markdown",
   "metadata": {},
   "source": [
    "# Implementing Decision Tree Classifier"
   ]
  },
  {
   "cell_type": "markdown",
   "metadata": {},
   "source": [
    "## Importing Libraries"
   ]
  },
  {
   "cell_type": "code",
   "execution_count": 71,
   "metadata": {},
   "outputs": [],
   "source": [
    "import numpy as np\n",
    "import pandas as pd\n",
    "from sklearn.model_selection import train_test_split\n",
    "from sklearn.preprocessing import LabelEncoder\n"
   ]
  },
  {
   "cell_type": "markdown",
   "metadata": {},
   "source": [
    "## Importing and preprocessing the data"
   ]
  },
  {
   "cell_type": "code",
   "execution_count": 72,
   "metadata": {},
   "outputs": [],
   "source": [
    "data = pd.read_csv(r'./data/nursery.csv')"
   ]
  },
  {
   "cell_type": "code",
   "execution_count": 73,
   "metadata": {},
   "outputs": [
    {
     "data": {
      "text/plain": [
       "parents             12960\n",
       "has_nurs            12960\n",
       "form                12960\n",
       "children            12960\n",
       "housing             12960\n",
       "finance             12960\n",
       "social              12960\n",
       "health              12960\n",
       "final evaluation    12960\n",
       "dtype: int64"
      ]
     },
     "execution_count": 73,
     "metadata": {},
     "output_type": "execute_result"
    }
   ],
   "source": [
    "data.count()"
   ]
  },
  {
   "cell_type": "markdown",
   "metadata": {},
   "source": [
    "There is no missing data in the dataset. So, we can directly move on to the next step."
   ]
  },
  {
   "cell_type": "code",
   "execution_count": 74,
   "metadata": {},
   "outputs": [],
   "source": [
    "y =  data['final evaluation']\n",
    "X = data.drop(labels=['final evaluation'], axis=1)"
   ]
  },
  {
   "cell_type": "code",
   "execution_count": 84,
   "metadata": {},
   "outputs": [],
   "source": [
    "X_train, X_test, y_train, y_test = train_test_split(\n",
    "    X, y, test_size=0.2, random_state=42)\n"
   ]
  },
  {
   "cell_type": "markdown",
   "metadata": {},
   "source": [
    "## Implementing the model"
   ]
  },
  {
   "cell_type": "code",
   "execution_count": 23,
   "metadata": {},
   "outputs": [],
   "source": [
    "class DecisionTreeClassifier:\n",
    "    def __init__(self, max_depth=None, impurity='entropy'):\n",
    "        self.max_depth = max_depth\n",
    "        self.impurity_name = impurity\n",
    "\n",
    "        if impurity == 'entropy':\n",
    "            self.impurity = self.entropy\n",
    "\n",
    "        elif impurity == 'gini':\n",
    "            self.impurity = self.gini\n",
    "\n",
    "        self.label_encdoer = LabelEncoder()\n",
    "\n",
    "    def encode_X(self, X):\n",
    "        return X.apply(LabelEncoder().fit_transform)\n",
    "\n",
    "    def encode_y(self, y):\n",
    "        return self.label_encoder.fit_transform(y)\n",
    "\n",
    "    def decode_y(self, y):\n",
    "        return self.label_encdoer.inverse_transform(y)\n",
    "\n",
    "    def entropy(self, X):\n",
    "        probablity_X = np.bincount(X) / len(X)\n",
    "        return np.dot(probablity_X, -np.log2(probablity_X))\n",
    "\n",
    "    def gini(self):\n",
    "        probablity_X = np.bincount(X) / len(X)\n",
    "        return 1 - np.dot(probablity_X, probablity_X)\n",
    "\n",
    "    def fit(self, X, y):\n",
    "\n",
    "        pass\n"
   ]
  }
 ],
 "metadata": {
  "kernelspec": {
   "display_name": "Python 3.10.8 ('sklearn')",
   "language": "python",
   "name": "python3"
  },
  "language_info": {
   "codemirror_mode": {
    "name": "ipython",
    "version": 3
   },
   "file_extension": ".py",
   "mimetype": "text/x-python",
   "name": "python",
   "nbconvert_exporter": "python",
   "pygments_lexer": "ipython3",
   "version": "3.10.8"
  },
  "orig_nbformat": 4,
  "vscode": {
   "interpreter": {
    "hash": "cabdcaaaa6217b1576e5d8aac96e5cbc1a818c349de89d78c5adb422533ce553"
   }
  }
 },
 "nbformat": 4,
 "nbformat_minor": 2
}
