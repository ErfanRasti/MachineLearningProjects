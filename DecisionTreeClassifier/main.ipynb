{
 "cells": [
  {
   "cell_type": "markdown",
   "metadata": {},
   "source": [
    "# Implementing Decision Tree Classifier"
   ]
  },
  {
   "cell_type": "markdown",
   "metadata": {},
   "source": [
    "## Importing Libraries"
   ]
  },
  {
   "cell_type": "code",
   "execution_count": 10,
   "metadata": {},
   "outputs": [],
   "source": [
    "import numpy as np\n",
    "import pandas as pd\n",
    "from sklearn.model_selection import train_test_split\n",
    "from sklearn.preprocessing import LabelEncoder\n"
   ]
  },
  {
   "cell_type": "markdown",
   "metadata": {},
   "source": [
    "## Importing and preprocessing the data"
   ]
  },
  {
   "cell_type": "code",
   "execution_count": 11,
   "metadata": {},
   "outputs": [],
   "source": [
    "data = pd.read_csv(r'./data/nursery.csv')"
   ]
  },
  {
   "cell_type": "code",
   "execution_count": 12,
   "metadata": {},
   "outputs": [
    {
     "data": {
      "text/plain": [
       "parents             12960\n",
       "has_nurs            12960\n",
       "form                12960\n",
       "children            12960\n",
       "housing             12960\n",
       "finance             12960\n",
       "social              12960\n",
       "health              12960\n",
       "final evaluation    12960\n",
       "dtype: int64"
      ]
     },
     "execution_count": 12,
     "metadata": {},
     "output_type": "execute_result"
    }
   ],
   "source": [
    "data.count()"
   ]
  },
  {
   "cell_type": "markdown",
   "metadata": {},
   "source": [
    "There is no missing data in the dataset. So, we can directly move on to the next step."
   ]
  },
  {
   "cell_type": "code",
   "execution_count": 13,
   "metadata": {},
   "outputs": [],
   "source": [
    "y =  data['final evaluation']\n",
    "X = data.drop(labels=['final evaluation'], axis=1)"
   ]
  },
  {
   "cell_type": "code",
   "execution_count": 14,
   "metadata": {},
   "outputs": [],
   "source": [
    "X_train, X_test, y_train, y_test = train_test_split(\n",
    "    X, y, test_size=0.2, random_state=42)\n"
   ]
  },
  {
   "cell_type": "markdown",
   "metadata": {},
   "source": [
    "## Implementing the model"
   ]
  },
  {
   "cell_type": "code",
   "execution_count": 54,
   "metadata": {},
   "outputs": [],
   "source": [
    "class DecisionTreeClassifier:\n",
    "    def __init__(self, max_depth=None, impurity='entropy'):\n",
    "        self.max_depth = max_depth\n",
    "        self.impurity_name = impurity\n",
    "        self.decision_tree_pathes = None\n",
    "        self.depth_iter = 0\n",
    "\n",
    "        if impurity == 'entropy':\n",
    "            self.impurity = self.entropy\n",
    "\n",
    "        elif impurity == 'gini':\n",
    "            self.impurity = self.gini\n",
    "\n",
    "    def encode_X(self, X):\n",
    "        return np.array(X.apply(LabelEncoder().fit_transform))\n",
    "\n",
    "    def encode_y(self, y):\n",
    "        self.label_encoder = LabelEncoder()\n",
    "        return self.label_encoder.fit_transform(y)\n",
    "\n",
    "    def decode_y(self, y):\n",
    "\n",
    "        if self.label_encoder is None:\n",
    "            raise Exception('Label encoder is not initialized')\n",
    "\n",
    "        return self.label_encdoer.inverse_transform(y)\n",
    "\n",
    "    def probablity(self, X):\n",
    "        return np.bincount(X)/X.shape[0]\n",
    "\n",
    "    def entropy(self, X):\n",
    "        X = self.probablity(X)\n",
    "        X = X[X != 0]\n",
    "        return np.dot(X, -np.log2(X))\n",
    "\n",
    "    def gini(self, X):\n",
    "        X = self.probablity(X)\n",
    "        return 1 - np.dot(X, X)\n",
    "\n",
    "    def information_gain(self, X, y):\n",
    "\n",
    "        if len(X.shape) == 1:\n",
    "            np.expand_dims(X, axis=1)\n",
    "\n",
    "        info_gain = list()\n",
    "        for i in range(X.shape[1]):\n",
    "            X1 = X[:, i]\n",
    "\n",
    "            info_gain.append(self.impurity(y)\n",
    "                             - np.sum(\n",
    "                                 [self.probablity(X1)[j] *\n",
    "                                  self.impurity(y[X1 == j])\n",
    "                                  for j in np.unique(X1)]))\n",
    "\n",
    "        return np.array(info_gain)\n",
    "\n",
    "    def split_nodes(self, X, y):\n",
    "\n",
    "        X_feature_arg = np.argmax(self.information_gain(X[1:, :], y))\n",
    "        feature_arg = X[0, X_feature_arg]\n",
    "        leftover_features = np.delete(X[0, :], X_feature_arg).reshape(1, -1)\n",
    "        X = X[1:, :]\n",
    "        X1 = X[:, X_feature_arg]\n",
    "        X = np.delete(X, X_feature_arg, axis=1)\n",
    "\n",
    "        sub_nodes = dict()\n",
    "\n",
    "        for i in np.unique(X1):\n",
    "\n",
    "            splitted_data = np.concatenate((leftover_features,\n",
    "                                            X[X1 == i]), axis=0)\n",
    "\n",
    "            splitted_labels = y[X1 == i]\n",
    "\n",
    "            branch_name = 'depth {} sub_cat {}'.format(self.depth_iter, i)\n",
    "\n",
    "            if np.all(splitted_labels == splitted_labels[0]):\n",
    "                sub_nodes[branch_name] = splitted_labels[0]\n",
    "                continue\n",
    "\n",
    "            if len(splitted_data) == 0:\n",
    "                sub_nodes[branch_name] = np.bincount(y).argmax()\n",
    "                continue\n",
    "\n",
    "            sub_nodes[branch_name] = (splitted_data, splitted_labels)\n",
    "\n",
    "        return {feature_arg: sub_nodes}\n",
    "\n",
    "    def count_leafs(self, X):\n",
    "        if len(X.shape) == 1:\n",
    "            X = np.expand_dims(X, axis=1)\n",
    "\n",
    "        return [np.unique(X[:, i]) for i in range(X.shape[1])]\n",
    "\n",
    "    def fit(self, X, y):\n",
    "\n",
    "        if len(X.shape) == 1:\n",
    "            X = np.expand_dims(X, axis=1)\n",
    "\n",
    "        if self.max_depth is None:\n",
    "            self.max_depth = X.shape[1]\n",
    "\n",
    "        X = np.concatenate((np.arange(X.shape[1]).reshape(1, -1), X), axis=0)\n",
    "        # return self.split_nodes(X,y)\n",
    "        self.decision_tree_pathes = self.split_nodes(X, y)\n",
    "        sub_trees = [self.decision_tree_pathes]\n",
    "        X_ys = [(X, y)]\n",
    "        for self.depth_iter in range(1, self.max_depth):\n",
    "            sub_trees_temp = []\n",
    "            for sub_tree in sub_trees:\n",
    "                node = list(sub_tree.keys())[0]\n",
    "                for cat in sub_tree[node]:\n",
    "                    X_ys = sub_tree[node][cat]\n",
    "                    if type(X_ys) == tuple:\n",
    "                        sub_tree[node][cat] = self.split_nodes(\n",
    "                            X_ys[0], X_ys[1])\n",
    "                        sub_trees_temp.append(sub_tree[node][cat])\n",
    "\n",
    "                    # if self.depth_iter == self.max_depth - 1:\n",
    "                \n",
    "\n",
    "                sub_trees = sub_trees_temp\n",
    "\n",
    "        return self.decision_tree_pathes\n"
   ]
  },
  {
   "cell_type": "code",
   "execution_count": 58,
   "metadata": {},
   "outputs": [
    {
     "data": {
      "text/plain": [
       "{7: {'depth 0 sub_cat 0': 0,\n",
       "  'depth 0 sub_cat 1': (array([[0, 1, 2, ..., 4, 5, 6],\n",
       "          [2, 0, 2, ..., 1, 0, 2],\n",
       "          [2, 4, 0, ..., 1, 1, 1],\n",
       "          ...,\n",
       "          [0, 0, 0, ..., 1, 1, 1],\n",
       "          [1, 2, 0, ..., 0, 0, 1],\n",
       "          [1, 0, 1, ..., 2, 1, 1]]),\n",
       "   array([2, 2, 1, ..., 2, 1, 2])),\n",
       "  'depth 0 sub_cat 2': (array([[0, 1, 2, ..., 4, 5, 6],\n",
       "          [1, 0, 3, ..., 1, 0, 0],\n",
       "          [2, 0, 1, ..., 1, 0, 2],\n",
       "          ...,\n",
       "          [2, 1, 2, ..., 0, 0, 2],\n",
       "          [1, 4, 3, ..., 0, 0, 1],\n",
       "          [0, 0, 2, ..., 2, 1, 2]]),\n",
       "   array([2, 1, 1, ..., 3, 2, 2]))}}"
      ]
     },
     "execution_count": 58,
     "metadata": {},
     "output_type": "execute_result"
    }
   ],
   "source": [
    "model = DecisionTreeClassifier(max_depth=None)\n",
    "X_train_encoded = model.encode_X(X_train)\n",
    "y_train_encoded = model.encode_y(y_train)\n",
    "model.fit(X_train_encoded, y_train_encoded)\n"
   ]
  },
  {
   "cell_type": "code",
   "execution_count": 33,
   "metadata": {},
   "outputs": [
    {
     "ename": "TypeError",
     "evalue": "unhashable type: 'list'",
     "output_type": "error",
     "traceback": [
      "\u001b[0;31m---------------------------------------------------------------------------\u001b[0m",
      "\u001b[0;31mTypeError\u001b[0m                                 Traceback (most recent call last)",
      "Cell \u001b[0;32mIn [33], line 4\u001b[0m\n\u001b[1;32m      1\u001b[0m a \u001b[39m=\u001b[39m {\u001b[39mNone\u001b[39;00m: \u001b[39mNone\u001b[39;00m, \u001b[39m2\u001b[39m:{\u001b[39m4\u001b[39m:\u001b[39m6\u001b[39m, \u001b[39m7\u001b[39m:\u001b[39m8\u001b[39m}}\n\u001b[1;32m      2\u001b[0m \u001b[39m# b = [1, 2>]\u001b[39;00m\n\u001b[1;32m      3\u001b[0m \u001b[39m# a[b]\u001b[39;00m\n\u001b[0;32m----> 4\u001b[0m a[[\u001b[39m2\u001b[39;49m]]\n",
      "\u001b[0;31mTypeError\u001b[0m: unhashable type: 'list'"
     ]
    }
   ],
   "source": [
    "a = {None: None, 2:{4:6, 7:8}}\n",
    "# b = [1, 2>]\n",
    "# a[b]\n",
    "a[[2]]"
   ]
  },
  {
   "cell_type": "code",
   "execution_count": 237,
   "metadata": {},
   "outputs": [
    {
     "data": {
      "text/plain": [
       "[array([0, 1, 2]),\n",
       " array([0, 1, 2, 3, 4]),\n",
       " array([0, 1, 2, 3]),\n",
       " array([0, 1, 2, 3]),\n",
       " array([0, 1, 2]),\n",
       " array([0, 1]),\n",
       " array([0, 1, 2]),\n",
       " array([0, 1, 2])]"
      ]
     },
     "execution_count": 237,
     "metadata": {},
     "output_type": "execute_result"
    }
   ],
   "source": [
    "model.count_leafs(X_train_encoded)"
   ]
  }
 ],
 "metadata": {
  "kernelspec": {
   "display_name": "Python 3.10.8 ('sklearn')",
   "language": "python",
   "name": "python3"
  },
  "language_info": {
   "codemirror_mode": {
    "name": "ipython",
    "version": 3
   },
   "file_extension": ".py",
   "mimetype": "text/x-python",
   "name": "python",
   "nbconvert_exporter": "python",
   "pygments_lexer": "ipython3",
   "version": "3.10.8"
  },
  "orig_nbformat": 4,
  "vscode": {
   "interpreter": {
    "hash": "cabdcaaaa6217b1576e5d8aac96e5cbc1a818c349de89d78c5adb422533ce553"
   }
  }
 },
 "nbformat": 4,
 "nbformat_minor": 2
}
