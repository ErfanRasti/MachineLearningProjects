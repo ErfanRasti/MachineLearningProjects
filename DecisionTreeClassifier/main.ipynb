{
 "cells": [
  {
   "cell_type": "markdown",
   "metadata": {},
   "source": [
    "# Implementing Decision Tree Classifier"
   ]
  },
  {
   "cell_type": "markdown",
   "metadata": {},
   "source": [
    "## Importing Libraries"
   ]
  },
  {
   "cell_type": "code",
   "execution_count": 2,
   "metadata": {},
   "outputs": [],
   "source": [
    "import numpy as np\n",
    "import pandas as pd\n",
    "from sklearn.model_selection import train_test_split\n",
    "from sklearn.preprocessing import LabelEncoder\n"
   ]
  },
  {
   "cell_type": "markdown",
   "metadata": {},
   "source": [
    "## Importing and preprocessing the data"
   ]
  },
  {
   "cell_type": "code",
   "execution_count": 3,
   "metadata": {},
   "outputs": [],
   "source": [
    "data = pd.read_csv(r'./data/nursery.csv')"
   ]
  },
  {
   "cell_type": "code",
   "execution_count": 4,
   "metadata": {},
   "outputs": [
    {
     "data": {
      "text/plain": [
       "parents             12960\n",
       "has_nurs            12960\n",
       "form                12960\n",
       "children            12960\n",
       "housing             12960\n",
       "finance             12960\n",
       "social              12960\n",
       "health              12960\n",
       "final evaluation    12960\n",
       "dtype: int64"
      ]
     },
     "execution_count": 4,
     "metadata": {},
     "output_type": "execute_result"
    }
   ],
   "source": [
    "data.count()"
   ]
  },
  {
   "cell_type": "markdown",
   "metadata": {},
   "source": [
    "There is no missing data in the dataset. So, we can directly move on to the next step."
   ]
  },
  {
   "cell_type": "code",
   "execution_count": 5,
   "metadata": {},
   "outputs": [],
   "source": [
    "y =  data['final evaluation']\n",
    "X = data.drop(labels=['final evaluation'], axis=1)"
   ]
  },
  {
   "cell_type": "code",
   "execution_count": 6,
   "metadata": {},
   "outputs": [],
   "source": [
    "X_train, X_test, y_train, y_test = train_test_split(\n",
    "    X, y, test_size=0.2, random_state=42)\n"
   ]
  },
  {
   "cell_type": "markdown",
   "metadata": {},
   "source": [
    "## Implementing the model"
   ]
  },
  {
   "cell_type": "code",
   "execution_count": 232,
   "metadata": {},
   "outputs": [],
   "source": [
    "class DecisionTreeClassifier:\n",
    "    def __init__(self, max_depth=None, impurity='entropy'):\n",
    "        self.max_depth = max_depth\n",
    "        self.impurity_name = impurity\n",
    "        self.decision_tree_pathes = None\n",
    "\n",
    "        if impurity == 'entropy':\n",
    "            self.impurity = self.entropy\n",
    "\n",
    "        elif impurity == 'gini':\n",
    "            self.impurity = self.gini\n",
    "\n",
    "    def encode_X(self, X):\n",
    "        return np.array(X.apply(LabelEncoder().fit_transform))\n",
    "\n",
    "    def encode_y(self, y):\n",
    "        self.label_encoder = LabelEncoder()\n",
    "        return self.label_encoder.fit_transform(y)\n",
    "\n",
    "    def decode_y(self, y):\n",
    "\n",
    "        if self.label_encoder is None:\n",
    "            raise Exception('Label encoder is not initialized')\n",
    "\n",
    "        return self.label_encdoer.inverse_transform(y)\n",
    "\n",
    "    def probablity(self, X):\n",
    "        return np.bincount(X)/X.shape[0]\n",
    "\n",
    "    def entropy(self, X):\n",
    "        X = self.probablity(X)\n",
    "        X = X[X != 0]\n",
    "        return np.dot(X, -np.log2(X))\n",
    "\n",
    "    def gini(self, X):\n",
    "        X = self.probablity(X)\n",
    "        return 1 - np.dot(X, X)\n",
    "\n",
    "    def information_gain(self, X, y):\n",
    "\n",
    "        if len(X.shape) == 1:\n",
    "            np.expand_dims(X, axis=1)\n",
    "\n",
    "        info_gain = list()\n",
    "        for i in range(X.shape[1]):\n",
    "            X1 = X[:, i]\n",
    "\n",
    "            info_gain.append(self.impurity(y)\n",
    "                             - np.sum(\n",
    "                                 [self.probablity(X1)[j] *\n",
    "                                  self.impurity(y[X1 == j])\n",
    "                                  for j in np.unique(X1)]))\n",
    "\n",
    "        return np.array(info_gain)\n",
    "\n",
    "    def split_nodes(self, X, y):\n",
    "\n",
    "        X_feature_arg = np.argmax(self.information_gain(X[1:, :], y))\n",
    "        feature_arg = X[0, X_feature_arg]\n",
    "        leftover_features = np.delete(X[0, :], X_feature_arg).reshape(1, -1)\n",
    "        X = X[1:, :]\n",
    "        X1 = X[:, X_feature_arg]\n",
    "        X = np.delete(X, X_feature_arg, axis=1)\n",
    "\n",
    "        return feature_arg, [(np.concatenate((leftover_features,\n",
    "                                              X[X1 == i]), axis=0),\n",
    "                              y[X1 == i])\n",
    "                             for i in np.unique(X1)]\n",
    "\n",
    "    def count_leafs(self, X):\n",
    "        if len(X.shape) == 1:\n",
    "            X = np.expand_dims(X, axis=1)\n",
    "\n",
    "        return [np.unique(X[:, i]) for i in range(X.shape[1])]\n",
    "\n",
    "    def fit(self, X, y):\n",
    "\n",
    "        if len(X.shape) == 1:\n",
    "            X = np.expand_dims(X, axis=1)\n",
    "\n",
    "        if self.max_depth is None:\n",
    "            self.max_depth = X.shape[1]\n",
    "\n",
    "        X = np.concatenate((np.arange(X.shape[1]).reshape(1, -1), X), axis=0)\n",
    "\n",
    "        temp = self.split_nodes(X, y)\n",
    "        self.decision_tree_pathes = [[np.array([temp[0]])]]\n",
    "        Xs_ys = temp[1]\n",
    "        for depth in range(1, self.max_depth):\n",
    "            Xs_ys_new = list()\n",
    "            nodes_of_depth = np.empty(0, dtype=int)\n",
    "            for i in range(len(Xs_ys)):\n",
    "                if np.all(Xs_ys[i][1] == Xs_ys[i][1][0]):\n",
    "                    nodes_of_depth = np.append(nodes_of_depth, -1)\n",
    "                    continue\n",
    "                if len(Xs_ys[i][0]) == 0:\n",
    "                    nodes_of_depth = np.append(nodes_of_depth, -2)\n",
    "                    continue\n",
    "\n",
    "                temp = self.split_nodes(Xs_ys[i][0], Xs_ys[i][1])\n",
    "                nodes_of_depth = np.append(nodes_of_depth, temp[0])\n",
    "                Xs_ys_new += temp[1]\n",
    "\n",
    "\n",
    "            # Splitting the nodes of depth\n",
    "            nodes_of_depth = np.split(\n",
    "                nodes_of_depth,\n",
    "                np.cumsum([len(self.count_leafs(X[1:, i])[0])\n",
    "                           for i in\n",
    "                           np.concatenate(\n",
    "                    [j for j in self.decision_tree_pathes[depth-1]], axis=0)\n",
    "                    if i >= 0]))[:-1]\n",
    "\n",
    "            self.decision_tree_pathes.append(nodes_of_depth)\n",
    "            Xs_ys = Xs_ys_new\n",
    "\n",
    "\n",
    "    def tree(self):\n",
    "        if self.decision_tree_pathes is None:\n",
    "            raise Exception('Decision tree is not trained')\n",
    "\n",
    "        print('------------------------')\n",
    "        print('root(depth 1): {}'.format(self.decision_tree_pathes[0]))\n",
    "        print('------------------------')\n",
    "\n",
    "        for i in range(1, len(self.decision_tree_pathes)):\n",
    "            print('depth {}: {}'.format(i+1, self.decision_tree_pathes[i][:]))\n",
    "            print('------------------------')\n",
    "\n"
   ]
  },
  {
   "cell_type": "code",
   "execution_count": 236,
   "metadata": {},
   "outputs": [],
   "source": [
    "model = DecisionTreeClassifier(max_depth=None)\n",
    "X_train_encoded = model.encode_X(X_train)\n",
    "y_train_encoded = model.encode_y(y_train)\n",
    "model.fit(X_train_encoded, y_train_encoded)\n",
    "# model.count_leafs(X_train_encoded)\n",
    "# temp = model.split_nodes(X_train_encoded, y_train_encoded)\n",
    "# temp"
   ]
  },
  {
   "cell_type": "code",
   "execution_count": 237,
   "metadata": {},
   "outputs": [
    {
     "data": {
      "text/plain": [
       "[array([0, 1, 2]),\n",
       " array([0, 1, 2, 3, 4]),\n",
       " array([0, 1, 2, 3]),\n",
       " array([0, 1, 2, 3]),\n",
       " array([0, 1, 2]),\n",
       " array([0, 1]),\n",
       " array([0, 1, 2]),\n",
       " array([0, 1, 2])]"
      ]
     },
     "execution_count": 237,
     "metadata": {},
     "output_type": "execute_result"
    }
   ],
   "source": [
    "model.count_leafs(X_train_encoded)"
   ]
  },
  {
   "cell_type": "code",
   "execution_count": 238,
   "metadata": {},
   "outputs": [
    {
     "name": "stdout",
     "output_type": "stream",
     "text": [
      "------------------------\n",
      "root(depth 1): [array([7])]\n",
      "------------------------\n",
      "depth 2: [array([-1,  1,  1])]\n",
      "------------------------\n",
      "depth 3: [array([0, 0, 0, 0, 3]), array([0, 0, 0, 0, 6])]\n",
      "------------------------\n",
      "depth 4: [array([3, 2, 4]), array([ 2,  4, -1]), array([ 4, -1, -1]), array([ 4, -1, -1]), array([ 2, -1, -1, -1]), array([4, 4, 6]), array([4, 6, 6]), array([6, 6, 6]), array([6, 6, 6]), array([4, 3, 4])]\n",
      "------------------------\n",
      "depth 5: [array([ 2, -1, -1, -1]), array([ 3, -1, -1, -1]), array([5, 2, 3]), array([ 3, -1, -1, -1]), array([5, 3, 3]), array([5, 2, 3]), array([5, 2, 3]), array([ 4, -1, -1, -1]), array([6, 2, 3]), array([6, 3, 3]), array([-1,  4, -1]), array([6, 2, 3]), array([-1,  3, -1]), array([ 4, -1,  3]), array([-1,  4, -1]), array([ 4, -1,  3]), array([ 4, -1,  4]), array([-1,  4, -1]), array([ 4, -1,  4]), array([ 4, -1,  4]), array([5, 3, 3]), array([ 2, -1, -1, -1]), array([5, 2, 3])]\n",
      "------------------------\n",
      "depth 6: [array([ 4, -1, -1, -1]), array([ 4, -1, -1, -1]), array([-1,  3]), array([ 3, -1, -1, -1]), array([ 2,  2, -1, -1]), array([ 4, -1, -1, -1]), array([-1,  3]), array([ 2, -1, -1, -1]), array([ 2,  2, -1, -1]), array([-1,  3]), array([ 3, -1, -1, -1]), array([ 2,  2, -1, -1]), array([-1,  3]), array([ 3, -1, -1, -1]), array([ 2,  2, -1, -1]), array([ 5, -1, -1]), array([5, 2, 5]), array([ 3, -1, -1, -1]), array([ 6,  2, -1, -1]), array([5, 2, 5]), array([ 2, -1, -1, -1]), array([ 6,  2, -1, -1]), array([5, 2, 3]), array([5, 2, 5]), array([ 3, -1, -1, -1]), array([ 6,  2, -1, -1]), array([2, 4, 4, 4]), array([5, 3, 3]), array([ 4,  4, -1,  4]), array([5, 3, 3]), array([5, 2, 3]), array([2, 4, 4, 4]), array([5, 2, 3]), array([5, 2, 2]), array([5, 2, 3]), array([5, 3, 3]), array([5, 2, 3]), array([5, 2, 3]), array([5, 2, 3]), array([-1,  3]), array([ 2, -1, -1, -1]), array([ 2,  2, -1, -1]), array([ 4, -1, -1, -1]), array([-1,  3]), array([ 3, -1, -1, -1]), array([ 2,  2, -1, -1])]\n",
      "------------------------\n",
      "depth 7: [array([ 5, -1, -1]), array([ 5, -1, -1]), array([ 2,  2, -1, -1]), array([-1, -1, -1, -1]), array([-1, -1, -1, -1]), array([-1, -1, -1, -1]), array([ 5, -1, -1]), array([ 2,  2, -1, -1]), array([-1, -1, -1, -1]), array([-1, -1, -1, -1]), array([-1, -1, -1, -1]), array([ 2,  2, -1, -1]), array([-1, -1, -1, -1]), array([-1, -1, -1, -1]), array([-1, -1, -1, -1]), array([ 2,  2, -1, -1]), array([-1, -1, -1, -1]), array([-1, -1, -1, -1]), array([-1, -1, -1, -1]), array([-1, -1]), array([-1,  3]), array([ 3, -1, -1, -1]), array([-1,  3]), array([ 6, -1, -1, -1]), array([ 2, -1,  2]), array([ 6,  6, -1, -1]), array([-1,  3]), array([ 3, -1, -1, -1]), array([-1,  3]), array([ 6, -1, -1, -1]), array([ 2, -1, -1]), array([ 6,  6, -1, -1]), array([-1,  3]), array([ 3, -1, -1, -1]), array([ 2,  2, -1, -1]), array([-1,  3]), array([ 3, -1, -1, -1]), array([-1,  3]), array([ 6, -1, -1, -1]), array([ 2, -1,  2]), array([ 6,  6, -1, -1]), array([-1,  4, -1,  4]), array([ 5, -1,  2]), array([ 5, -1, -1]), array([ 5, -1, -1]), array([-1,  3]), array([ 2, -1, -1, -1]), array([ 2,  2, -1, -1]), array([-1,  2,  2]), array([ 2, -1,  2]), array([ 5, -1, -1]), array([-1,  3]), array([ 2, -1, -1, -1]), array([ 2,  2, -1, -1]), array([-1,  3]), array([ 3, -1, -1, -1]), array([ 2,  2, -1, -1]), array([-1,  4, -1,  4]), array([ 5, -1,  2]), array([ 5, -1, -1]), array([ 5, -1, -1]), array([-1,  3]), array([ 3, -1, -1, -1]), array([ 2,  2, -1, -1]), array([-1,  3]), array([ 3, -1, -1, -1]), array([-1,  3, -1,  3]), array([-1,  3]), array([ 3, -1, -1, -1]), array([ 2,  2, -1, -1]), array([-1,  3]), array([ 2, -1, -1, -1]), array([ 2,  2, -1, -1]), array([-1,  3]), array([ 3, -1, -1, -1]), array([ 2,  2, -1, -1]), array([-1,  3]), array([ 3, -1, -1, -1]), array([ 2,  2, -1, -1]), array([-1,  3]), array([ 3, -1, -1, -1]), array([ 2,  2, -1, -1]), array([ 2,  2, -1, -1]), array([-1, -1, -1, -1]), array([-1, -1, -1, -1]), array([-1, -1, -1, -1]), array([ 5, -1, -1]), array([ 2,  2, -1, -1]), array([-1, -1, -1, -1]), array([-1, -1, -1, -1]), array([-1, -1, -1, -1])]\n",
      "------------------------\n",
      "depth 8: [array([-1, -1]), array([-1, -1]), array([-1, -1, -1, -1]), array([-1, -1, -1, -1]), array([-1, -1]), array([-1, -1, -1, -1]), array([-1, -1, -1, -1]), array([-1, -1, -1, -1]), array([-1, -1, -1, -1]), array([-1, -1, -1, -1]), array([-1, -1, -1,  2]), array([-1, -1,  5, -1]), array([-1, -1,  2,  2]), array([-1, -1, -1, -1]), array([-1, -1, -1]), array([-1, -1, -1, -1]), array([-1, -1, -1, -1]), array([-1, -1, -1]), array([-1,  2,  2]), array([-1, -1,  5, -1]), array([-1, -1, -1, -1]), array([-1, -1, -1, -1]), array([-1, -1, -1]), array([-1, -1, -1, -1]), array([-1, -1, -1]), array([ 2,  2, -1]), array([-1, -1, -1, -1]), array([-1, -1, -1, -1]), array([-1, -1, -1, -1]), array([ 2, -1, -1,  5]), array([-1, -1,  2,  2]), array([-1, -1, -1, -1]), array([-1, -1, -1, -1]), array([-1, -1, -1]), array([-1, -1, -1, -1]), array([-1, -1, -1, -1]), array([-1, -1, -1]), array([-1,  2, -1]), array([-1, -1, -1]), array([-1, -1, -1]), array([-1,  2]), array([ 2, -1, -1, -1]), array([-1, -1]), array([-1, -1]), array([-1, -1, -1, -1]), array([-1, -1, -1, -1]), array([-1, -1, -1, -1]), array([-1, -1, -1, -1]), array([-1, -1,  5, -1]), array([-1, -1, -1, -1]), array([-1,  2, -1, -1]), array([-1, -1, -1, -1]), array([-1, -1]), array([-1, -1, -1, -1]), array([-1, -1,  2,  2]), array([-1, -1, -1, -1]), array([-1, -1, -1, -1]), array([-1, -1, -1, -1]), array([-1, -1, -1, -1]), array([-1, -1, -1, -1]), array([ 2, -1, -1, -1]), array([-1, -1, -1]), array([-1, -1,  2]), array([ 2, -1]), array([-1, -1, -1, -1]), array([-1, -1]), array([-1, -1]), array([-1, -1, -1, -1]), array([-1,  2, -1, -1]), array([-1, -1, -1, -1]), array([-1, -1, -1, -1]), array([-1, -1, -1, -1]), array([-1,  2,  2, -1]), array([-1, -1, -1, -1]), array([-1, -1, -1, -1]), array([-1, -1, -1, -1]), array([ 2,  2, -1, -1]), array([-1, -1, -1, -1]), array([-1, -1, -1, -1]), array([-1,  2,  2, -1]), array([-1, -1, -1, -1]), array([-1, -1, -1, -1]), array([-1, -1, -1, -1]), array([-1,  2,  2, -1]), array([-1, -1, -1, -1]), array([-1, -1, -1, -1]), array([-1, -1, -1, -1]), array([-1,  2,  2, -1]), array([-1, -1, -1, -1]), array([-1, -1, -1, -1]), array([-1, -1, -1, -1]), array([-1, -1, -1, -1]), array([-1, -1, -1, -1]), array([-1, -1, -1, -1]), array([-1, -1, -1, -1]), array([-1, -1, -1]), array([], dtype=int64), array([], dtype=int64), array([], dtype=int64), array([], dtype=int64)]\n",
      "------------------------\n"
     ]
    }
   ],
   "source": [
    "model.tree()"
   ]
  }
 ],
 "metadata": {
  "kernelspec": {
   "display_name": "Python 3.10.8 ('sklearn')",
   "language": "python",
   "name": "python3"
  },
  "language_info": {
   "codemirror_mode": {
    "name": "ipython",
    "version": 3
   },
   "file_extension": ".py",
   "mimetype": "text/x-python",
   "name": "python",
   "nbconvert_exporter": "python",
   "pygments_lexer": "ipython3",
   "version": "3.10.8"
  },
  "orig_nbformat": 4,
  "vscode": {
   "interpreter": {
    "hash": "cabdcaaaa6217b1576e5d8aac96e5cbc1a818c349de89d78c5adb422533ce553"
   }
  }
 },
 "nbformat": 4,
 "nbformat_minor": 2
}
