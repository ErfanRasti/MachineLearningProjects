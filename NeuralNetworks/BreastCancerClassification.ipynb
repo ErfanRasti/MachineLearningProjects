{
 "cells": [
  {
   "cell_type": "code",
   "execution_count": null,
   "metadata": {},
   "outputs": [],
   "source": []
  }
 ],
 "metadata": {
  "kernelspec": {
   "display_name": "Python 3.9.15 ('tensorflow')",
   "language": "python",
   "name": "python3"
  },
  "language_info": {
   "name": "python",
   "version": "3.9.15"
  },
  "orig_nbformat": 4,
  "vscode": {
   "interpreter": {
    "hash": "778c362588975e4261519a1bde36f5390c14a0d91b7c2cecfd2d877161f6dd0d"
   }
  }
 },
 "nbformat": 4,
 "nbformat_minor": 2
}
