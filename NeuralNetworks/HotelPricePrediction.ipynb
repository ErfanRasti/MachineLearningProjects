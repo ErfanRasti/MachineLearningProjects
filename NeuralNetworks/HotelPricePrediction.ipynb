{
 "cells": [
  {
   "cell_type": "markdown",
   "metadata": {},
   "source": [
    "# Hotel Price Prediction using Neural Networks"
   ]
  },
  {
   "cell_type": "markdown",
   "metadata": {},
   "source": [
    "## Importing the libraries"
   ]
  },
  {
   "cell_type": "code",
   "execution_count": 237,
   "metadata": {},
   "outputs": [
    {
     "data": {
      "text/plain": [
       "[PhysicalDevice(name='/physical_device:GPU:0', device_type='GPU')]"
      ]
     },
     "execution_count": 237,
     "metadata": {},
     "output_type": "execute_result"
    }
   ],
   "source": [
    "import numpy as np\n",
    "import pandas as pd\n",
    "import tensorflow as tf\n",
    "from sklearn.preprocessing import OneHotEncoder\n",
    "\n",
    "\n",
    "tf.config.list_physical_devices('GPU')"
   ]
  },
  {
   "attachments": {},
   "cell_type": "markdown",
   "metadata": {},
   "source": [
    "## Preprocessing the train and test data"
   ]
  },
  {
   "attachments": {},
   "cell_type": "markdown",
   "metadata": {},
   "source": [
    "### Splitting the targets from train and testdata"
   ]
  },
  {
   "cell_type": "code",
   "execution_count": 238,
   "metadata": {},
   "outputs": [],
   "source": [
    "train_data = pd.read_csv('./data/trainingset.csv')\n",
    "train_targets = train_data['ADR']\n",
    "train_data.drop(columns=['ADR'], inplace=True)\n",
    "\n",
    "test_data = pd.read_csv('./data/testset.csv')\n",
    "test_targets = test_data['ADR']\n",
    "test_data.drop(columns=['ADR'], inplace=True)\n"
   ]
  },
  {
   "cell_type": "code",
   "execution_count": 239,
   "metadata": {},
   "outputs": [
    {
     "data": {
      "text/plain": [
       "((40060, 27), (79330, 27))"
      ]
     },
     "execution_count": 239,
     "metadata": {},
     "output_type": "execute_result"
    }
   ],
   "source": [
    "train_data.shape, test_data.shape"
   ]
  },
  {
   "attachments": {},
   "cell_type": "markdown",
   "metadata": {},
   "source": [
    "### Replace the missing values with the mean of the column"
   ]
  },
  {
   "cell_type": "code",
   "execution_count": 240,
   "metadata": {},
   "outputs": [
    {
     "data": {
      "text/plain": [
       "IsCanceled                       0\n",
       "LeadTime                         0\n",
       "ArrivalDateYear                  0\n",
       "ArrivalDateMonth                 0\n",
       "ArrivalDateWeekNumber            0\n",
       "ArrivalDateDayOfMonth            0\n",
       "StaysInWeekendNights             0\n",
       "StaysInWeekNights                0\n",
       "Adults                           0\n",
       "Children                         0\n",
       "Babies                           0\n",
       "Meal                             0\n",
       "Country                        464\n",
       "MarketSegment                    0\n",
       "DistributionChannel              0\n",
       "IsRepeatedGuest                  0\n",
       "PreviousCancellations            0\n",
       "PreviousBookingsNotCanceled      0\n",
       "ReservedRoomType                 0\n",
       "AssignedRoomType                 0\n",
       "BookingChanges                   0\n",
       "DepositType                      0\n",
       "DaysInWaitingList                0\n",
       "CustomerType                     0\n",
       "RequiredCarParkingSpaces         0\n",
       "TotalOfSpecialRequests           0\n",
       "ReservationStatus                0\n",
       "dtype: int64"
      ]
     },
     "execution_count": 240,
     "metadata": {},
     "output_type": "execute_result"
    }
   ],
   "source": [
    "train_data.isna().sum()"
   ]
  },
  {
   "cell_type": "code",
   "execution_count": 241,
   "metadata": {},
   "outputs": [
    {
     "data": {
      "text/plain": [
       "PRT    17630\n",
       "GBR     6814\n",
       "ESP     3957\n",
       "IRL     2166\n",
       "FRA     1611\n",
       "       ...  \n",
       "BIH        1\n",
       "MUS        1\n",
       "COM        1\n",
       "UGA        1\n",
       "DJI        1\n",
       "Name: Country, Length: 125, dtype: int64"
      ]
     },
     "execution_count": 241,
     "metadata": {},
     "output_type": "execute_result"
    }
   ],
   "source": [
    "train_data['Country'].value_counts()"
   ]
  },
  {
   "cell_type": "code",
   "execution_count": 242,
   "metadata": {},
   "outputs": [
    {
     "data": {
      "text/plain": [
       "30       NaN\n",
       "4127     NaN\n",
       "7092     NaN\n",
       "7860     NaN\n",
       "8779     NaN\n",
       "        ... \n",
       "26473    NaN\n",
       "28460    NaN\n",
       "31085    NaN\n",
       "31594    NaN\n",
       "33087    NaN\n",
       "Name: Country, Length: 464, dtype: object"
      ]
     },
     "execution_count": 242,
     "metadata": {},
     "output_type": "execute_result"
    }
   ],
   "source": [
    "train_data['Country'][train_data['Country'].isna()]"
   ]
  },
  {
   "cell_type": "code",
   "execution_count": 243,
   "metadata": {},
   "outputs": [],
   "source": [
    "train_data['Country'].fillna('PRT', inplace=True)"
   ]
  },
  {
   "cell_type": "code",
   "execution_count": 244,
   "metadata": {},
   "outputs": [
    {
     "data": {
      "text/plain": [
       "IsCanceled                     0\n",
       "LeadTime                       0\n",
       "ArrivalDateYear                0\n",
       "ArrivalDateMonth               0\n",
       "ArrivalDateWeekNumber          0\n",
       "ArrivalDateDayOfMonth          0\n",
       "StaysInWeekendNights           0\n",
       "StaysInWeekNights              0\n",
       "Adults                         0\n",
       "Children                       0\n",
       "Babies                         0\n",
       "Meal                           0\n",
       "Country                        0\n",
       "MarketSegment                  0\n",
       "DistributionChannel            0\n",
       "IsRepeatedGuest                0\n",
       "PreviousCancellations          0\n",
       "PreviousBookingsNotCanceled    0\n",
       "ReservedRoomType               0\n",
       "AssignedRoomType               0\n",
       "BookingChanges                 0\n",
       "DepositType                    0\n",
       "DaysInWaitingList              0\n",
       "CustomerType                   0\n",
       "RequiredCarParkingSpaces       0\n",
       "TotalOfSpecialRequests         0\n",
       "ReservationStatus              0\n",
       "dtype: int64"
      ]
     },
     "execution_count": 244,
     "metadata": {},
     "output_type": "execute_result"
    }
   ],
   "source": [
    "train_data.isna().sum()"
   ]
  },
  {
   "cell_type": "code",
   "execution_count": 245,
   "metadata": {},
   "outputs": [
    {
     "data": {
      "text/plain": [
       "IsCanceled                      0\n",
       "LeadTime                        0\n",
       "ArrivalDateYear                 0\n",
       "ArrivalDateMonth                0\n",
       "ArrivalDateWeekNumber           0\n",
       "ArrivalDateDayOfMonth           0\n",
       "StaysInWeekendNights            0\n",
       "StaysInWeekNights               0\n",
       "Adults                          0\n",
       "Children                        4\n",
       "Babies                          0\n",
       "Meal                            0\n",
       "Country                        24\n",
       "MarketSegment                   0\n",
       "DistributionChannel             0\n",
       "IsRepeatedGuest                 0\n",
       "PreviousCancellations           0\n",
       "PreviousBookingsNotCanceled     0\n",
       "ReservedRoomType                0\n",
       "AssignedRoomType                0\n",
       "BookingChanges                  0\n",
       "DepositType                     0\n",
       "DaysInWaitingList               0\n",
       "CustomerType                    0\n",
       "RequiredCarParkingSpaces        0\n",
       "TotalOfSpecialRequests          0\n",
       "ReservationStatus               0\n",
       "dtype: int64"
      ]
     },
     "execution_count": 245,
     "metadata": {},
     "output_type": "execute_result"
    }
   ],
   "source": [
    "test_data.isna().sum()"
   ]
  },
  {
   "cell_type": "code",
   "execution_count": 246,
   "metadata": {},
   "outputs": [
    {
     "data": {
      "text/plain": [
       "0.0    74220\n",
       "1.0     3023\n",
       "2.0     2024\n",
       "3.0       59\n",
       "Name: Children, dtype: int64"
      ]
     },
     "execution_count": 246,
     "metadata": {},
     "output_type": "execute_result"
    }
   ],
   "source": [
    "test_data['Children'].value_counts()"
   ]
  },
  {
   "cell_type": "code",
   "execution_count": 247,
   "metadata": {},
   "outputs": [
    {
     "data": {
      "text/plain": [
       "PRT    30960\n",
       "FRA     8804\n",
       "DEU     6084\n",
       "GBR     5315\n",
       "ESP     4611\n",
       "       ...  \n",
       "MMR        1\n",
       "UMI        1\n",
       "NIC        1\n",
       "VGB        1\n",
       "COM        1\n",
       "Name: Country, Length: 166, dtype: int64"
      ]
     },
     "execution_count": 247,
     "metadata": {},
     "output_type": "execute_result"
    }
   ],
   "source": [
    "test_data['Country'].value_counts()"
   ]
  },
  {
   "cell_type": "code",
   "execution_count": 248,
   "metadata": {},
   "outputs": [],
   "source": [
    "test_data['Children'].fillna(0, inplace=True)\n",
    "test_data['Country'].fillna('PRT', inplace=True)"
   ]
  },
  {
   "attachments": {},
   "cell_type": "markdown",
   "metadata": {},
   "source": [
    "### Encoding the categorical data on training set"
   ]
  },
  {
   "cell_type": "code",
   "execution_count": 249,
   "metadata": {},
   "outputs": [
    {
     "data": {
      "text/plain": [
       "IsCanceled                      int64\n",
       "LeadTime                        int64\n",
       "ArrivalDateYear                 int64\n",
       "ArrivalDateMonth               object\n",
       "ArrivalDateWeekNumber           int64\n",
       "ArrivalDateDayOfMonth           int64\n",
       "StaysInWeekendNights            int64\n",
       "StaysInWeekNights               int64\n",
       "Adults                          int64\n",
       "Children                        int64\n",
       "Babies                          int64\n",
       "Meal                           object\n",
       "Country                        object\n",
       "MarketSegment                  object\n",
       "DistributionChannel            object\n",
       "IsRepeatedGuest                 int64\n",
       "PreviousCancellations           int64\n",
       "PreviousBookingsNotCanceled     int64\n",
       "ReservedRoomType               object\n",
       "AssignedRoomType               object\n",
       "BookingChanges                  int64\n",
       "DepositType                    object\n",
       "DaysInWaitingList               int64\n",
       "CustomerType                   object\n",
       "RequiredCarParkingSpaces        int64\n",
       "TotalOfSpecialRequests          int64\n",
       "ReservationStatus              object\n",
       "dtype: object"
      ]
     },
     "execution_count": 249,
     "metadata": {},
     "output_type": "execute_result"
    }
   ],
   "source": [
    "train_data.dtypes"
   ]
  },
  {
   "cell_type": "code",
   "execution_count": 250,
   "metadata": {},
   "outputs": [],
   "source": [
    "categorical_columns = train_data.select_dtypes(include=['object']).columns"
   ]
  },
  {
   "cell_type": "code",
   "execution_count": 251,
   "metadata": {},
   "outputs": [],
   "source": [
    "# train_data_encoded = pd.get_dummies(train_data, columns=categorical_columns)\n",
    "# test_data_encoded = pd.get_dummies(test_data, columns=categorical_columns)\n",
    "\n",
    "\n",
    "encoders_list = {col: OneHotEncoder() for col in categorical_columns}\n",
    "\n",
    "for col in categorical_columns:\n",
    "    enocded_column = encoders_list[col].fit_transform(\n",
    "        train_data[[col]])\n",
    "    train_data = pd.concat([train_data, pd.DataFrame(\n",
    "        enocded_column.toarray(),\n",
    "        columns=encoders_list[col].categories_)], axis=1)\n",
    "\n",
    "    train_data.drop(columns=[col], inplace=True)\n",
    "\n",
    "#     test_data = pd.concat([test_data, pd.DataFrame(encoders_list[i].transform(\n",
    "#         test_data[[categorical_columns[i]]]).toarray(),\n",
    "#         columns=encoders_list[i].categories_)], axis=1)\n",
    "\n",
    "#     test_data.drop(columns=[col], inplace=True)\n"
   ]
  },
  {
   "cell_type": "code",
   "execution_count": 252,
   "metadata": {},
   "outputs": [
    {
     "data": {
      "text/plain": [
       "(40060, 200)"
      ]
     },
     "execution_count": 252,
     "metadata": {},
     "output_type": "execute_result"
    }
   ],
   "source": [
    "train_data.shape"
   ]
  },
  {
   "attachments": {},
   "cell_type": "markdown",
   "metadata": {},
   "source": [
    "### Converting the data and targets into tensors"
   ]
  },
  {
   "cell_type": "code",
   "execution_count": 253,
   "metadata": {},
   "outputs": [],
   "source": [
    "train_data = tf.convert_to_tensor(train_data.values,\n",
    "                                        dtype=tf.float64)\n",
    "train_targets = tf.convert_to_tensor(train_targets.values,\n",
    "                                     dtype=tf.float64)\n"
   ]
  },
  {
   "cell_type": "code",
   "execution_count": 254,
   "metadata": {},
   "outputs": [
    {
     "data": {
      "text/plain": [
       "TensorShape([40060, 200])"
      ]
     },
     "execution_count": 254,
     "metadata": {},
     "output_type": "execute_result"
    }
   ],
   "source": [
    "train_data.shape"
   ]
  },
  {
   "cell_type": "code",
   "execution_count": 255,
   "metadata": {},
   "outputs": [
    {
     "data": {
      "text/plain": [
       "TensorShape([40060])"
      ]
     },
     "execution_count": 255,
     "metadata": {},
     "output_type": "execute_result"
    }
   ],
   "source": [
    "train_targets.shape"
   ]
  },
  {
   "cell_type": "code",
   "execution_count": 256,
   "metadata": {},
   "outputs": [
    {
     "data": {
      "text/plain": [
       "('/job:localhost/replica:0/task:0/device:GPU:0',\n",
       " '/job:localhost/replica:0/task:0/device:GPU:0')"
      ]
     },
     "execution_count": 256,
     "metadata": {},
     "output_type": "execute_result"
    }
   ],
   "source": [
    "train_data.device, train_targets.device"
   ]
  },
  {
   "cell_type": "code",
   "execution_count": 257,
   "metadata": {},
   "outputs": [
    {
     "data": {
      "text/plain": [
       "(tf.float64, tf.float64)"
      ]
     },
     "execution_count": 257,
     "metadata": {},
     "output_type": "execute_result"
    }
   ],
   "source": [
    "train_data.dtype, train_targets.dtype"
   ]
  },
  {
   "attachments": {},
   "cell_type": "markdown",
   "metadata": {},
   "source": [
    "### Standardization of train_data"
   ]
  },
  {
   "cell_type": "code",
   "execution_count": 258,
   "metadata": {},
   "outputs": [],
   "source": [
    "mean = np.mean(train_data, axis=0)\n",
    "train_data -= mean\n",
    "\n",
    "std = np.std(train_data, axis=0)\n",
    "train_data /= std\n"
   ]
  },
  {
   "cell_type": "code",
   "execution_count": 259,
   "metadata": {},
   "outputs": [
    {
     "data": {
      "text/plain": [
       "<tf.Tensor: shape=(4, 200), dtype=float64, numpy=\n",
       "array([[-6.19950749e-01,  2.56284748e+00, -1.55251861e+00,\n",
       "        -1.00579098e-02, -1.66838310e+00, -1.03660697e+00,\n",
       "        -1.27117116e+00,  1.90527960e-01, -2.89049799e-01,\n",
       "        -1.16845074e-01, -2.15510567e-01, -7.61909388e-02,\n",
       "        -1.46171447e-01,  3.73281232e+00, -7.10451956e-02,\n",
       "        -3.93359247e-01, -7.61463993e-01, -3.14657956e-01,\n",
       "        -3.73052965e-01, -2.66044036e-01, -2.89762735e-01,\n",
       "        -2.40651662e-01,  2.78569807e+00, -2.86816923e-01,\n",
       "        -3.01396380e-01, -3.12256590e-01, -2.54507774e-01,\n",
       "        -3.12063968e-01, -2.90015714e-01,  5.78887567e-01,\n",
       "        -1.38502065e-01, -5.01325786e-01, -4.63831695e-02,\n",
       "        -1.73373494e-01, -2.44838822e-02, -8.65409019e-03,\n",
       "        -1.11726613e-02, -1.65729761e-02, -3.77477567e-02,\n",
       "        -7.06594686e-03, -4.66526432e-02, -7.25931237e-02,\n",
       "        -8.65409019e-03, -4.99631657e-03, -1.06347093e-01,\n",
       "        -1.11726613e-02, -4.99631657e-03, -4.99631657e-03,\n",
       "        -4.99631657e-03, -1.32200012e-02, -1.04165090e-01,\n",
       "        -4.99631657e-03, -8.65409019e-03, -1.04775560e-01,\n",
       "        -2.06044562e-02, -5.79327972e-02, -7.06594686e-03,\n",
       "        -7.06594686e-03, -1.34324987e-01, -1.99890091e-02,\n",
       "        -4.99631657e-03, -1.11726613e-02, -7.06594686e-03,\n",
       "        -9.99300734e-03, -4.99631657e-03, -1.41329522e-02,\n",
       "        -2.59700517e-02, -1.75953609e-01, -4.99631657e-03,\n",
       "        -4.03138084e-02, -8.65409019e-03, -1.73101251e-02,\n",
       "        -7.06594686e-03, -4.99631657e-03, -3.31063559e-01,\n",
       "        -2.87131242e-02, -6.15110373e-02, -4.99631657e-03,\n",
       "        -2.04694063e-01, -4.52721755e-01, -1.65729761e-02,\n",
       "        -4.99631657e-03, -1.80171744e-02, -1.58015154e-02,\n",
       "        -9.99300734e-03, -1.65729761e-02, -3.42727041e-02,\n",
       "        -1.11726613e-02, -3.04050724e-02, -2.39080415e-01,\n",
       "        -1.11726613e-02, -1.22391900e-02, -2.64469365e-02,\n",
       "        -1.07659725e-01, -1.11726613e-02, -8.65409019e-03,\n",
       "        -7.06594686e-03, -1.49904466e-02, -1.11726613e-02,\n",
       "        -1.49904466e-02, -8.65409019e-03, -1.22391900e-02,\n",
       "        -4.99631657e-03, -3.39057169e-02, -4.47325441e-02,\n",
       "        -2.87131242e-02, -4.99631657e-03, -4.33093915e-02,\n",
       "        -4.99631657e-03, -1.22391900e-02, -1.22391900e-02,\n",
       "        -4.99631657e-03, -7.06594686e-03, -1.22391900e-02,\n",
       "        -4.99631657e-03, -7.06594686e-03, -1.58015154e-02,\n",
       "        -1.58015154e-02, -1.14006675e-01, -5.54964032e-02,\n",
       "        -4.99631657e-03, -1.86975389e-02, -1.65729761e-02,\n",
       "        -9.99300734e-03, -4.99631657e-03, -1.99890091e-02,\n",
       "        -4.99631657e-03, -9.15544023e-02, -1.49904466e-02,\n",
       "         1.10181377e+00, -4.99631657e-03, -6.66181739e-02,\n",
       "        -6.88497453e-02, -4.99631657e-03, -4.99631657e-03,\n",
       "        -9.99300734e-03, -4.99631657e-03, -1.32200012e-02,\n",
       "        -9.99300734e-03, -1.73101251e-02, -1.65729761e-02,\n",
       "        -8.74450944e-02, -4.99631657e-03, -4.99631657e-03,\n",
       "        -4.99631657e-03, -1.22391900e-02, -4.99631657e-03,\n",
       "        -2.39680749e-02, -1.73101251e-02, -4.99631657e-03,\n",
       "        -2.39680749e-02, -1.41329522e-02, -1.10008027e-01,\n",
       "        -4.99631657e-03, -8.65409019e-03, -7.06594686e-03,\n",
       "        -2.12020753e-02, -4.99631657e-03, -7.06594686e-03,\n",
       "        -7.10125044e-02, -2.47313450e-01,  2.26953197e+00,\n",
       "        -4.12945044e-01, -4.78839069e-01, -8.91021194e-01,\n",
       "        -2.98082626e-01,  2.02322811e+00, -1.61172734e+00,\n",
       "        -4.99631657e-03, -1.18508122e+00, -8.65409019e-03,\n",
       "         6.52980430e+00, -4.77302265e-01, -3.76863823e-01,\n",
       "        -1.68500632e-01, -2.04627862e-01, -1.23413935e-01,\n",
       "        -1.22391900e-02, -7.06594686e-03, -8.60627438e-01,\n",
       "        -6.31257676e-02,  4.13448275e+00, -5.89803790e-01,\n",
       "        -4.04710513e-01, -2.12640932e-01, -2.20224808e-01,\n",
       "        -1.34517462e-01, -9.56256651e-02, -4.99631657e-03,\n",
       "        -7.06594686e-03,  2.20722796e-01, -2.11741615e-01,\n",
       "        -5.96430419e-02, -2.15383697e-01, -8.44984255e-02,\n",
       "         5.71047172e-01, -4.91364582e-01, -6.08733635e-01,\n",
       "         6.19950749e-01, -8.55409677e-02],\n",
       "       [-6.19950749e-01,  6.62312039e+00, -1.55251861e+00,\n",
       "        -1.00579098e-02, -1.66838310e+00, -1.03660697e+00,\n",
       "        -1.27117116e+00,  1.90527960e-01, -2.89049799e-01,\n",
       "        -1.16845074e-01, -2.15510567e-01, -7.61909388e-02,\n",
       "        -1.46171447e-01,  5.10920182e+00, -7.10451956e-02,\n",
       "        -3.93359247e-01, -7.61463993e-01, -3.14657956e-01,\n",
       "        -3.73052965e-01, -2.66044036e-01, -2.89762735e-01,\n",
       "        -2.40651662e-01,  2.78569807e+00, -2.86816923e-01,\n",
       "        -3.01396380e-01, -3.12256590e-01, -2.54507774e-01,\n",
       "        -3.12063968e-01, -2.90015714e-01,  5.78887567e-01,\n",
       "        -1.38502065e-01, -5.01325786e-01, -4.63831695e-02,\n",
       "        -1.73373494e-01, -2.44838822e-02, -8.65409019e-03,\n",
       "        -1.11726613e-02, -1.65729761e-02, -3.77477567e-02,\n",
       "        -7.06594686e-03, -4.66526432e-02, -7.25931237e-02,\n",
       "        -8.65409019e-03, -4.99631657e-03, -1.06347093e-01,\n",
       "        -1.11726613e-02, -4.99631657e-03, -4.99631657e-03,\n",
       "        -4.99631657e-03, -1.32200012e-02, -1.04165090e-01,\n",
       "        -4.99631657e-03, -8.65409019e-03, -1.04775560e-01,\n",
       "        -2.06044562e-02, -5.79327972e-02, -7.06594686e-03,\n",
       "        -7.06594686e-03, -1.34324987e-01, -1.99890091e-02,\n",
       "        -4.99631657e-03, -1.11726613e-02, -7.06594686e-03,\n",
       "        -9.99300734e-03, -4.99631657e-03, -1.41329522e-02,\n",
       "        -2.59700517e-02, -1.75953609e-01, -4.99631657e-03,\n",
       "        -4.03138084e-02, -8.65409019e-03, -1.73101251e-02,\n",
       "        -7.06594686e-03, -4.99631657e-03, -3.31063559e-01,\n",
       "        -2.87131242e-02, -6.15110373e-02, -4.99631657e-03,\n",
       "        -2.04694063e-01, -4.52721755e-01, -1.65729761e-02,\n",
       "        -4.99631657e-03, -1.80171744e-02, -1.58015154e-02,\n",
       "        -9.99300734e-03, -1.65729761e-02, -3.42727041e-02,\n",
       "        -1.11726613e-02, -3.04050724e-02, -2.39080415e-01,\n",
       "        -1.11726613e-02, -1.22391900e-02, -2.64469365e-02,\n",
       "        -1.07659725e-01, -1.11726613e-02, -8.65409019e-03,\n",
       "        -7.06594686e-03, -1.49904466e-02, -1.11726613e-02,\n",
       "        -1.49904466e-02, -8.65409019e-03, -1.22391900e-02,\n",
       "        -4.99631657e-03, -3.39057169e-02, -4.47325441e-02,\n",
       "        -2.87131242e-02, -4.99631657e-03, -4.33093915e-02,\n",
       "        -4.99631657e-03, -1.22391900e-02, -1.22391900e-02,\n",
       "        -4.99631657e-03, -7.06594686e-03, -1.22391900e-02,\n",
       "        -4.99631657e-03, -7.06594686e-03, -1.58015154e-02,\n",
       "        -1.58015154e-02, -1.14006675e-01, -5.54964032e-02,\n",
       "        -4.99631657e-03, -1.86975389e-02, -1.65729761e-02,\n",
       "        -9.99300734e-03, -4.99631657e-03, -1.99890091e-02,\n",
       "        -4.99631657e-03, -9.15544023e-02, -1.49904466e-02,\n",
       "         1.10181377e+00, -4.99631657e-03, -6.66181739e-02,\n",
       "        -6.88497453e-02, -4.99631657e-03, -4.99631657e-03,\n",
       "        -9.99300734e-03, -4.99631657e-03, -1.32200012e-02,\n",
       "        -9.99300734e-03, -1.73101251e-02, -1.65729761e-02,\n",
       "        -8.74450944e-02, -4.99631657e-03, -4.99631657e-03,\n",
       "        -4.99631657e-03, -1.22391900e-02, -4.99631657e-03,\n",
       "        -2.39680749e-02, -1.73101251e-02, -4.99631657e-03,\n",
       "        -2.39680749e-02, -1.41329522e-02, -1.10008027e-01,\n",
       "        -4.99631657e-03, -8.65409019e-03, -7.06594686e-03,\n",
       "        -2.12020753e-02, -4.99631657e-03, -7.06594686e-03,\n",
       "        -7.10125044e-02, -2.47313450e-01,  2.26953197e+00,\n",
       "        -4.12945044e-01, -4.78839069e-01, -8.91021194e-01,\n",
       "        -2.98082626e-01,  2.02322811e+00, -1.61172734e+00,\n",
       "        -4.99631657e-03, -1.18508122e+00, -8.65409019e-03,\n",
       "         6.52980430e+00, -4.77302265e-01, -3.76863823e-01,\n",
       "        -1.68500632e-01, -2.04627862e-01, -1.23413935e-01,\n",
       "        -1.22391900e-02, -7.06594686e-03, -8.60627438e-01,\n",
       "        -6.31257676e-02,  4.13448275e+00, -5.89803790e-01,\n",
       "        -4.04710513e-01, -2.12640932e-01, -2.20224808e-01,\n",
       "        -1.34517462e-01, -9.56256651e-02, -4.99631657e-03,\n",
       "        -7.06594686e-03,  2.20722796e-01, -2.11741615e-01,\n",
       "        -5.96430419e-02, -2.15383697e-01, -8.44984255e-02,\n",
       "         5.71047172e-01, -4.91364582e-01, -6.08733635e-01,\n",
       "         6.19950749e-01, -8.55409677e-02],\n",
       "       [-6.19950749e-01, -8.80675111e-01, -1.55251861e+00,\n",
       "        -1.00579098e-02, -1.66838310e+00, -1.03660697e+00,\n",
       "        -8.64881580e-01, -1.24362275e+00, -2.89049799e-01,\n",
       "        -1.16845074e-01, -2.15510567e-01, -7.61909388e-02,\n",
       "        -1.46171447e-01, -3.96356199e-01, -7.10451956e-02,\n",
       "        -3.93359247e-01, -7.61463993e-01, -3.14657956e-01,\n",
       "        -3.73052965e-01, -2.66044036e-01, -2.89762735e-01,\n",
       "        -2.40651662e-01,  2.78569807e+00, -2.86816923e-01,\n",
       "        -3.01396380e-01, -3.12256590e-01, -2.54507774e-01,\n",
       "        -3.12063968e-01, -2.90015714e-01,  5.78887567e-01,\n",
       "        -1.38502065e-01, -5.01325786e-01, -4.63831695e-02,\n",
       "        -1.73373494e-01, -2.44838822e-02, -8.65409019e-03,\n",
       "        -1.11726613e-02, -1.65729761e-02, -3.77477567e-02,\n",
       "        -7.06594686e-03, -4.66526432e-02, -7.25931237e-02,\n",
       "        -8.65409019e-03, -4.99631657e-03, -1.06347093e-01,\n",
       "        -1.11726613e-02, -4.99631657e-03, -4.99631657e-03,\n",
       "        -4.99631657e-03, -1.32200012e-02, -1.04165090e-01,\n",
       "        -4.99631657e-03, -8.65409019e-03, -1.04775560e-01,\n",
       "        -2.06044562e-02, -5.79327972e-02, -7.06594686e-03,\n",
       "        -7.06594686e-03, -1.34324987e-01, -1.99890091e-02,\n",
       "        -4.99631657e-03, -1.11726613e-02, -7.06594686e-03,\n",
       "        -9.99300734e-03, -4.99631657e-03, -1.41329522e-02,\n",
       "        -2.59700517e-02, -1.75953609e-01, -4.99631657e-03,\n",
       "        -4.03138084e-02, -8.65409019e-03, -1.73101251e-02,\n",
       "        -7.06594686e-03, -4.99631657e-03, -3.31063559e-01,\n",
       "        -2.87131242e-02, -6.15110373e-02, -4.99631657e-03,\n",
       "        -2.04694063e-01,  2.20886226e+00, -1.65729761e-02,\n",
       "        -4.99631657e-03, -1.80171744e-02, -1.58015154e-02,\n",
       "        -9.99300734e-03, -1.65729761e-02, -3.42727041e-02,\n",
       "        -1.11726613e-02, -3.04050724e-02, -2.39080415e-01,\n",
       "        -1.11726613e-02, -1.22391900e-02, -2.64469365e-02,\n",
       "        -1.07659725e-01, -1.11726613e-02, -8.65409019e-03,\n",
       "        -7.06594686e-03, -1.49904466e-02, -1.11726613e-02,\n",
       "        -1.49904466e-02, -8.65409019e-03, -1.22391900e-02,\n",
       "        -4.99631657e-03, -3.39057169e-02, -4.47325441e-02,\n",
       "        -2.87131242e-02, -4.99631657e-03, -4.33093915e-02,\n",
       "        -4.99631657e-03, -1.22391900e-02, -1.22391900e-02,\n",
       "        -4.99631657e-03, -7.06594686e-03, -1.22391900e-02,\n",
       "        -4.99631657e-03, -7.06594686e-03, -1.58015154e-02,\n",
       "        -1.58015154e-02, -1.14006675e-01, -5.54964032e-02,\n",
       "        -4.99631657e-03, -1.86975389e-02, -1.65729761e-02,\n",
       "        -9.99300734e-03, -4.99631657e-03, -1.99890091e-02,\n",
       "        -4.99631657e-03, -9.15544023e-02, -1.49904466e-02,\n",
       "        -9.07594391e-01, -4.99631657e-03, -6.66181739e-02,\n",
       "        -6.88497453e-02, -4.99631657e-03, -4.99631657e-03,\n",
       "        -9.99300734e-03, -4.99631657e-03, -1.32200012e-02,\n",
       "        -9.99300734e-03, -1.73101251e-02, -1.65729761e-02,\n",
       "        -8.74450944e-02, -4.99631657e-03, -4.99631657e-03,\n",
       "        -4.99631657e-03, -1.22391900e-02, -4.99631657e-03,\n",
       "        -2.39680749e-02, -1.73101251e-02, -4.99631657e-03,\n",
       "        -2.39680749e-02, -1.41329522e-02, -1.10008027e-01,\n",
       "        -4.99631657e-03, -8.65409019e-03, -7.06594686e-03,\n",
       "        -2.12020753e-02, -4.99631657e-03, -7.06594686e-03,\n",
       "        -7.10125044e-02, -2.47313450e-01,  2.26953197e+00,\n",
       "        -4.12945044e-01, -4.78839069e-01, -8.91021194e-01,\n",
       "        -2.98082626e-01,  2.02322811e+00, -1.61172734e+00,\n",
       "        -4.99631657e-03,  8.43824020e-01, -8.65409019e-03,\n",
       "        -1.53143946e-01, -4.77302265e-01, -3.76863823e-01,\n",
       "        -1.68500632e-01, -2.04627862e-01, -1.23413935e-01,\n",
       "        -1.22391900e-02, -7.06594686e-03, -8.60627438e-01,\n",
       "        -6.31257676e-02,  4.13448275e+00, -5.89803790e-01,\n",
       "        -4.04710513e-01, -2.12640932e-01, -2.20224808e-01,\n",
       "        -1.34517462e-01, -9.56256651e-02, -4.99631657e-03,\n",
       "        -7.06594686e-03,  2.20722796e-01, -2.11741615e-01,\n",
       "        -5.96430419e-02, -2.15383697e-01, -8.44984255e-02,\n",
       "         5.71047172e-01, -4.91364582e-01, -6.08733635e-01,\n",
       "         6.19950749e-01, -8.55409677e-02],\n",
       "       [-6.19950749e-01, -8.19000079e-01, -1.55251861e+00,\n",
       "        -1.00579098e-02, -1.66838310e+00, -1.03660697e+00,\n",
       "        -8.64881580e-01, -1.24362275e+00, -2.89049799e-01,\n",
       "        -1.16845074e-01, -2.15510567e-01, -7.61909388e-02,\n",
       "        -1.46171447e-01, -3.96356199e-01, -7.10451956e-02,\n",
       "        -3.93359247e-01, -7.61463993e-01, -3.14657956e-01,\n",
       "        -3.73052965e-01, -2.66044036e-01, -2.89762735e-01,\n",
       "        -2.40651662e-01,  2.78569807e+00, -2.86816923e-01,\n",
       "        -3.01396380e-01, -3.12256590e-01, -2.54507774e-01,\n",
       "        -3.12063968e-01, -2.90015714e-01,  5.78887567e-01,\n",
       "        -1.38502065e-01, -5.01325786e-01, -4.63831695e-02,\n",
       "        -1.73373494e-01, -2.44838822e-02, -8.65409019e-03,\n",
       "        -1.11726613e-02, -1.65729761e-02, -3.77477567e-02,\n",
       "        -7.06594686e-03, -4.66526432e-02, -7.25931237e-02,\n",
       "        -8.65409019e-03, -4.99631657e-03, -1.06347093e-01,\n",
       "        -1.11726613e-02, -4.99631657e-03, -4.99631657e-03,\n",
       "        -4.99631657e-03, -1.32200012e-02, -1.04165090e-01,\n",
       "        -4.99631657e-03, -8.65409019e-03, -1.04775560e-01,\n",
       "        -2.06044562e-02, -5.79327972e-02, -7.06594686e-03,\n",
       "        -7.06594686e-03, -1.34324987e-01, -1.99890091e-02,\n",
       "        -4.99631657e-03, -1.11726613e-02, -7.06594686e-03,\n",
       "        -9.99300734e-03, -4.99631657e-03, -1.41329522e-02,\n",
       "        -2.59700517e-02, -1.75953609e-01, -4.99631657e-03,\n",
       "        -4.03138084e-02, -8.65409019e-03, -1.73101251e-02,\n",
       "        -7.06594686e-03, -4.99631657e-03, -3.31063559e-01,\n",
       "        -2.87131242e-02, -6.15110373e-02, -4.99631657e-03,\n",
       "        -2.04694063e-01,  2.20886226e+00, -1.65729761e-02,\n",
       "        -4.99631657e-03, -1.80171744e-02, -1.58015154e-02,\n",
       "        -9.99300734e-03, -1.65729761e-02, -3.42727041e-02,\n",
       "        -1.11726613e-02, -3.04050724e-02, -2.39080415e-01,\n",
       "        -1.11726613e-02, -1.22391900e-02, -2.64469365e-02,\n",
       "        -1.07659725e-01, -1.11726613e-02, -8.65409019e-03,\n",
       "        -7.06594686e-03, -1.49904466e-02, -1.11726613e-02,\n",
       "        -1.49904466e-02, -8.65409019e-03, -1.22391900e-02,\n",
       "        -4.99631657e-03, -3.39057169e-02, -4.47325441e-02,\n",
       "        -2.87131242e-02, -4.99631657e-03, -4.33093915e-02,\n",
       "        -4.99631657e-03, -1.22391900e-02, -1.22391900e-02,\n",
       "        -4.99631657e-03, -7.06594686e-03, -1.22391900e-02,\n",
       "        -4.99631657e-03, -7.06594686e-03, -1.58015154e-02,\n",
       "        -1.58015154e-02, -1.14006675e-01, -5.54964032e-02,\n",
       "        -4.99631657e-03, -1.86975389e-02, -1.65729761e-02,\n",
       "        -9.99300734e-03, -4.99631657e-03, -1.99890091e-02,\n",
       "        -4.99631657e-03, -9.15544023e-02, -1.49904466e-02,\n",
       "        -9.07594391e-01, -4.99631657e-03, -6.66181739e-02,\n",
       "        -6.88497453e-02, -4.99631657e-03, -4.99631657e-03,\n",
       "        -9.99300734e-03, -4.99631657e-03, -1.32200012e-02,\n",
       "        -9.99300734e-03, -1.73101251e-02, -1.65729761e-02,\n",
       "        -8.74450944e-02, -4.99631657e-03, -4.99631657e-03,\n",
       "        -4.99631657e-03, -1.22391900e-02, -4.99631657e-03,\n",
       "        -2.39680749e-02, -1.73101251e-02, -4.99631657e-03,\n",
       "        -2.39680749e-02, -1.41329522e-02, -1.10008027e-01,\n",
       "        -4.99631657e-03, -8.65409019e-03, -7.06594686e-03,\n",
       "        -2.12020753e-02, -4.99631657e-03, -7.06594686e-03,\n",
       "        -7.10125044e-02,  4.04345174e+00, -4.40619481e-01,\n",
       "        -4.12945044e-01, -4.78839069e-01, -8.91021194e-01,\n",
       "         3.35477452e+00, -4.94259640e-01, -1.61172734e+00,\n",
       "        -4.99631657e-03,  8.43824020e-01, -8.65409019e-03,\n",
       "        -1.53143946e-01, -4.77302265e-01, -3.76863823e-01,\n",
       "        -1.68500632e-01, -2.04627862e-01, -1.23413935e-01,\n",
       "        -1.22391900e-02, -7.06594686e-03,  1.16194297e+00,\n",
       "        -6.31257676e-02, -2.41868224e-01, -5.89803790e-01,\n",
       "        -4.04710513e-01, -2.12640932e-01, -2.20224808e-01,\n",
       "        -1.34517462e-01, -9.56256651e-02, -4.99631657e-03,\n",
       "        -7.06594686e-03,  2.20722796e-01, -2.11741615e-01,\n",
       "        -5.96430419e-02, -2.15383697e-01, -8.44984255e-02,\n",
       "         5.71047172e-01, -4.91364582e-01, -6.08733635e-01,\n",
       "         6.19950749e-01, -8.55409677e-02]])>"
      ]
     },
     "execution_count": 259,
     "metadata": {},
     "output_type": "execute_result"
    }
   ],
   "source": [
    "train_data[0:4]"
   ]
  },
  {
   "cell_type": "markdown",
   "metadata": {},
   "source": [
    "## Designing The Neural Network Model"
   ]
  },
  {
   "cell_type": "code",
   "execution_count": 260,
   "metadata": {},
   "outputs": [
    {
     "name": "stdout",
     "output_type": "stream",
     "text": [
      "Model: \"model_3\"\n",
      "_________________________________________________________________\n",
      " Layer (type)                Output Shape              Param #   \n",
      "=================================================================\n",
      " input_4 (InputLayer)        [(None, 200)]             0         \n",
      "                                                                 \n",
      " dense_26 (Dense)            (None, 32)                6432      \n",
      "                                                                 \n",
      " dense_27 (Dense)            (None, 32)                1056      \n",
      "                                                                 \n",
      " dense_28 (Dense)            (None, 64)                2112      \n",
      "                                                                 \n",
      " dense_29 (Dense)            (None, 64)                4160      \n",
      "                                                                 \n",
      " dense_30 (Dense)            (None, 128)               8320      \n",
      "                                                                 \n",
      " dropout_4 (Dropout)         (None, 128)               0         \n",
      "                                                                 \n",
      " dense_31 (Dense)            (None, 256)               33024     \n",
      "                                                                 \n",
      " dense_32 (Dense)            (None, 256)               65792     \n",
      "                                                                 \n",
      " dropout_5 (Dropout)         (None, 256)               0         \n",
      "                                                                 \n",
      " dense_33 (Dense)            (None, 512)               131584    \n",
      "                                                                 \n",
      " dense_34 (Dense)            (None, 512)               262656    \n",
      "                                                                 \n",
      " dropout_6 (Dropout)         (None, 512)               0         \n",
      "                                                                 \n",
      " dense_35 (Dense)            (None, 1024)              525312    \n",
      "                                                                 \n",
      " dense_36 (Dense)            (None, 1)                 1025      \n",
      "                                                                 \n",
      "=================================================================\n",
      "Total params: 1,041,473\n",
      "Trainable params: 1,041,473\n",
      "Non-trainable params: 0\n",
      "_________________________________________________________________\n"
     ]
    }
   ],
   "source": [
    "from tensorflow.keras import models, layers\n",
    "from tensorflow import keras\n",
    "\n",
    "inputs = keras.Input(shape=(train_data.shape[1],))\n",
    "x = layers.Dense(32, activation='relu')(inputs)\n",
    "x = layers.Dense(32, activation='relu')(x)\n",
    "x = layers.Dense(64, activation='relu')(x)\n",
    "x = layers.Dense(64, activation='relu')(x)\n",
    "x = layers.Dense(128, activation='relu')(x)\n",
    "x = layers.Dropout(0.1)(x)\n",
    "x = layers.Dense(256, activation='relu')(x)\n",
    "x = layers.Dense(256, activation='relu')(x)\n",
    "x = layers.Dropout(0.2)(x)\n",
    "x = layers.Dense(512, activation='relu')(x)\n",
    "x = layers.Dense(512, activation='relu')(x)\n",
    "x = layers.Dropout(0.5)(x)\n",
    "x = layers.Dense(1024, activation='relu')(x)\n",
    "\n",
    "outputs = layers.Dense(1)(x)\n",
    "\n",
    "model = keras.Model(inputs=inputs, outputs=outputs)\n",
    "\n",
    "model.summary()\n"
   ]
  },
  {
   "attachments": {},
   "cell_type": "markdown",
   "metadata": {},
   "source": [
    "### Compiling the model"
   ]
  },
  {
   "cell_type": "code",
   "execution_count": 261,
   "metadata": {},
   "outputs": [],
   "source": [
    "model.compile(optimizer='rmsprop', loss='mse', metrics=['mae'])"
   ]
  },
  {
   "attachments": {},
   "cell_type": "markdown",
   "metadata": {},
   "source": [
    "### Training the model with differnet number of epochs"
   ]
  },
  {
   "cell_type": "code",
   "execution_count": 262,
   "metadata": {},
   "outputs": [
    {
     "name": "stdout",
     "output_type": "stream",
     "text": [
      "Epoch 1/30\n",
      "2003/2003 [==============================] - 12s 5ms/step - loss: 1420.3512 - mae: 23.6952 - val_loss: 1107.9070 - val_mae: 21.5435\n",
      "Epoch 2/30\n",
      "2003/2003 [==============================] - 9s 5ms/step - loss: 765.4639 - mae: 18.0948 - val_loss: 776.6378 - val_mae: 17.7965\n",
      "Epoch 3/30\n",
      "2003/2003 [==============================] - 13s 7ms/step - loss: 654.2542 - mae: 16.6270 - val_loss: 837.6930 - val_mae: 18.4455\n",
      "Epoch 4/30\n",
      "2003/2003 [==============================] - 14s 7ms/step - loss: 595.9443 - mae: 15.8805 - val_loss: 756.9934 - val_mae: 18.1827\n",
      "Epoch 5/30\n",
      "2003/2003 [==============================] - 11s 6ms/step - loss: 563.1608 - mae: 15.3308 - val_loss: 832.4197 - val_mae: 17.8451\n",
      "Epoch 6/30\n",
      "2003/2003 [==============================] - 10s 5ms/step - loss: 530.1700 - mae: 14.7792 - val_loss: 895.2421 - val_mae: 18.3191\n",
      "Epoch 7/30\n",
      "2003/2003 [==============================] - 10s 5ms/step - loss: 507.8160 - mae: 14.4135 - val_loss: 1126.0757 - val_mae: 22.0051\n",
      "Epoch 8/30\n",
      "2003/2003 [==============================] - 10s 5ms/step - loss: 498.0517 - mae: 14.1079 - val_loss: 791.4277 - val_mae: 16.5637\n",
      "Epoch 9/30\n",
      "2003/2003 [==============================] - 9s 5ms/step - loss: 489.2722 - mae: 13.9553 - val_loss: 1236.4727 - val_mae: 19.4375\n",
      "Epoch 10/30\n",
      "2003/2003 [==============================] - 10s 5ms/step - loss: 466.9202 - mae: 13.7268 - val_loss: 779.9183 - val_mae: 17.1696\n",
      "Epoch 11/30\n",
      "2003/2003 [==============================] - 10s 5ms/step - loss: 451.6357 - mae: 13.3675 - val_loss: 1078.4514 - val_mae: 20.0397\n",
      "Epoch 12/30\n",
      "2003/2003 [==============================] - 9s 5ms/step - loss: 447.8048 - mae: 13.2530 - val_loss: 900.5638 - val_mae: 19.1012\n",
      "Epoch 13/30\n",
      "2003/2003 [==============================] - 10s 5ms/step - loss: 451.0891 - mae: 13.1355 - val_loss: 960.0618 - val_mae: 17.8393\n",
      "Epoch 14/30\n",
      "2003/2003 [==============================] - 11s 6ms/step - loss: 421.4417 - mae: 12.9584 - val_loss: 954.4441 - val_mae: 18.5052\n",
      "Epoch 15/30\n",
      "2003/2003 [==============================] - 10s 5ms/step - loss: 412.2189 - mae: 12.7800 - val_loss: 1219.3258 - val_mae: 20.7902\n",
      "Epoch 16/30\n",
      "2003/2003 [==============================] - 9s 4ms/step - loss: 415.0084 - mae: 12.6319 - val_loss: 750.8785 - val_mae: 17.4882\n",
      "Epoch 17/30\n",
      "2003/2003 [==============================] - 9s 5ms/step - loss: 398.0201 - mae: 12.4611 - val_loss: 894.3701 - val_mae: 16.3733\n",
      "Epoch 18/30\n",
      "2003/2003 [==============================] - 8s 4ms/step - loss: 391.8054 - mae: 12.3692 - val_loss: 674.5457 - val_mae: 17.1774\n",
      "Epoch 19/30\n",
      "2003/2003 [==============================] - 9s 5ms/step - loss: 382.3429 - mae: 12.2561 - val_loss: 906.2509 - val_mae: 16.8332\n",
      "Epoch 20/30\n",
      "2003/2003 [==============================] - 9s 5ms/step - loss: 379.2228 - mae: 12.1642 - val_loss: 789.4921 - val_mae: 18.6182\n",
      "Epoch 21/30\n",
      "2003/2003 [==============================] - 9s 5ms/step - loss: 368.5403 - mae: 11.9845 - val_loss: 1022.7356 - val_mae: 22.1124\n",
      "Epoch 22/30\n",
      "2003/2003 [==============================] - 9s 4ms/step - loss: 369.1463 - mae: 11.8666 - val_loss: 917.6683 - val_mae: 20.0598\n",
      "Epoch 23/30\n",
      "2003/2003 [==============================] - 10s 5ms/step - loss: 357.7012 - mae: 11.7889 - val_loss: 798.8983 - val_mae: 19.2913\n",
      "Epoch 24/30\n",
      "2003/2003 [==============================] - 9s 5ms/step - loss: 358.6233 - mae: 11.7613 - val_loss: 887.6866 - val_mae: 21.1419\n",
      "Epoch 25/30\n",
      "2003/2003 [==============================] - 9s 4ms/step - loss: 351.4292 - mae: 11.6266 - val_loss: 755.6901 - val_mae: 19.2085\n",
      "Epoch 26/30\n",
      "2003/2003 [==============================] - 11s 6ms/step - loss: 352.2115 - mae: 11.5554 - val_loss: 766.8350 - val_mae: 17.9153\n",
      "Epoch 27/30\n",
      "2003/2003 [==============================] - 13s 7ms/step - loss: 350.0191 - mae: 11.5500 - val_loss: 873.4056 - val_mae: 21.0220\n",
      "Epoch 28/30\n",
      "2003/2003 [==============================] - 13s 6ms/step - loss: 346.3679 - mae: 11.5693 - val_loss: 802.9408 - val_mae: 19.7513\n",
      "Epoch 29/30\n",
      "2003/2003 [==============================] - 13s 6ms/step - loss: 331.7622 - mae: 11.3625 - val_loss: 770.4890 - val_mae: 18.9727\n",
      "Epoch 30/30\n",
      "2003/2003 [==============================] - 11s 6ms/step - loss: 340.4542 - mae: 11.3582 - val_loss: 716.4890 - val_mae: 18.5195\n"
     ]
    }
   ],
   "source": [
    "history = model.fit(train_data, train_targets, validation_split=0.2 ,epochs=30,\n",
    "          batch_size=16)"
   ]
  },
  {
   "cell_type": "code",
   "execution_count": 272,
   "metadata": {},
   "outputs": [],
   "source": [
    "import matplotlib.pyplot as plt\n",
    "\n",
    "\n",
    "def plot_history(history):\n",
    "    \"\"\"Plot training and validation MSE loss and MAE metrics.\"\"\"\n",
    "\n",
    "    fig = plt.figure(figsize=(10, 10))\n",
    "    fig.canvas.manager.set_window_title('Training and validation loss')\n",
    "\n",
    "    epochs = range(1, len(history.history['mae']) + 1)\n",
    "\n",
    "    plt.subplot(2, 1, 1)\n",
    "    plt.plot(epochs, history.history['loss'], 'bo', label='Training loss(MSE)')\n",
    "    plt.plot(epochs, history.history['val_loss'], 'b',\n",
    "             label='Validation loss(MSE)')\n",
    "    plt.title('Training and validation loss(MSE)')\n",
    "    plt.xlabel('Epochs')\n",
    "    plt.ylabel('Loss(MSE)')\n",
    "    plt.legend()\n",
    "    plt.grid()\n",
    "\n",
    "    plt.subplot(2, 1, 2)\n",
    "    plt.plot(epochs, history.history['mae'], 'bo', label='Training MAE')\n",
    "    plt.plot(epochs, history.history['val_mae'], 'b', label='Validation MAE')\n",
    "    plt.title('Training and validation MAE')\n",
    "    plt.xlabel('Epochs')\n",
    "    plt.ylabel('MAE')\n",
    "    plt.legend()\n",
    "    plt.grid()\n",
    "\n",
    "    plt.show()\n"
   ]
  },
  {
   "cell_type": "code",
   "execution_count": 273,
   "metadata": {},
   "outputs": [
    {
     "data": {
      "image/png": "[encoded data removed]",
      "text/plain": [
       "<Figure size 1000x1000 with 2 Axes>"
      ]
     },
     "metadata": {},
     "output_type": "display_data"
    }
   ],
   "source": [
    "plot_history(history)"
   ]
  },
  {
   "cell_type": "code",
   "execution_count": null,
   "metadata": {},
   "outputs": [],
   "source": [
    "history = model.fit(train_data, train_targets, validation_split=0.2 ,epochs=50,\n",
    "          batch_size=16)\n",
    "plot_history(history)\n"
   ]
  },
  {
   "cell_type": "code",
   "execution_count": null,
   "metadata": {},
   "outputs": [],
   "source": [
    "history = model.fit(train_data, train_targets, validation_split=0.2,\n",
    "                    epochs=100, batch_size=16)\n",
    "plot_history(history)\n"
   ]
  },
  {
   "cell_type": "code",
   "execution_count": null,
   "metadata": {},
   "outputs": [],
   "source": []
  }
 ],
 "metadata": {
  "kernelspec": {
   "display_name": "tensorflow",
   "language": "python",
   "name": "python3"
  },
  "language_info": {
   "codemirror_mode": {
    "name": "ipython",
    "version": 3
   },
   "file_extension": ".py",
   "mimetype": "text/x-python",
   "name": "python",
   "nbconvert_exporter": "python",
   "pygments_lexer": "ipython3",
   "version": "3.9.15"
  },
  "vscode": {
   "interpreter": {
    "hash": "778c362588975e4261519a1bde36f5390c14a0d91b7c2cecfd2d877161f6dd0d"
   }
  }
 },
 "nbformat": 4,
 "nbformat_minor": 2
}
